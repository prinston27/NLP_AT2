{
 "cells": [
  {
   "cell_type": "markdown",
   "id": "58248c0e",
   "metadata": {},
   "source": [
    "# Title: Cyberbullying Detection and Analysis: NLP Pipeline Report"
   ]
  },
  {
   "cell_type": "markdown",
   "id": "86dfc5fe",
   "metadata": {},
   "source": [
    "**Project Objectives and Scope**\n",
    "\n",
    "The objective of this project was to develop an NLP pipeline for cyberbullying detection and analysis using the chosen dataset from kaggle community. The dataset can be found [here](https://www.kaggle.com/datasets/saurabhshahane/cyberbullying-dataset). The dataset is provided as a `.csv` file with **16309** text posts from Twitter where **32.26% of the tweets were labeled as cyber bullying content**.  The scope of the project included data preprocessing, feature extraction, model training and evaluation, and selecting the best-performing model for cyberbullying detection.\n",
    "\n",
    "**Data Description**\n",
    "\n",
    "The dataset used in this project consists of social media text posts labeled as cyberbullying or non-cyberbullying. It contains **16309** instances, with features including **'text','annotation' 'oh_label'**. The 'text' column represents the text content of the social media post, 'annotation' represent the type whether it belongs to category sexist/racism/none and the 'oh_label' column represents the corresponding label (1 for cyberbullying, 0 for non-cyberbullying)."
   ]
  },
  {
   "cell_type": "code",
   "execution_count": 2,
   "id": "e7b81dff",
   "metadata": {},
   "outputs": [
    {
     "name": "stdout",
     "output_type": "stream",
     "text": [
      "Requirement already satisfied: wordcloud in c:\\users\\admin\\anaconda3\\lib\\site-packages (1.9.1.1)\n",
      "Requirement already satisfied: matplotlib in c:\\users\\admin\\anaconda3\\lib\\site-packages (from wordcloud) (3.5.2)\n",
      "Requirement already satisfied: pillow in c:\\users\\admin\\anaconda3\\lib\\site-packages (from wordcloud) (9.2.0)\n",
      "Requirement already satisfied: numpy>=1.6.1 in c:\\users\\admin\\anaconda3\\lib\\site-packages (from wordcloud) (1.21.5)\n",
      "Requirement already satisfied: cycler>=0.10 in c:\\users\\admin\\anaconda3\\lib\\site-packages (from matplotlib->wordcloud) (0.11.0)\n",
      "Requirement already satisfied: packaging>=20.0 in c:\\users\\admin\\anaconda3\\lib\\site-packages (from matplotlib->wordcloud) (21.3)\n",
      "Requirement already satisfied: python-dateutil>=2.7 in c:\\users\\admin\\anaconda3\\lib\\site-packages (from matplotlib->wordcloud) (2.8.2)\n",
      "Requirement already satisfied: pyparsing>=2.2.1 in c:\\users\\admin\\anaconda3\\lib\\site-packages (from matplotlib->wordcloud) (3.0.9)\n",
      "Requirement already satisfied: kiwisolver>=1.0.1 in c:\\users\\admin\\anaconda3\\lib\\site-packages (from matplotlib->wordcloud) (1.4.2)\n",
      "Requirement already satisfied: fonttools>=4.22.0 in c:\\users\\admin\\anaconda3\\lib\\site-packages (from matplotlib->wordcloud) (4.25.0)\n",
      "Requirement already satisfied: six>=1.5 in c:\\users\\admin\\anaconda3\\lib\\site-packages (from python-dateutil>=2.7->matplotlib->wordcloud) (1.16.0)\n",
      "Requirement already satisfied: imblearn in c:\\users\\admin\\anaconda3\\lib\\site-packages (0.0)\n",
      "Requirement already satisfied: imbalanced-learn in c:\\users\\admin\\anaconda3\\lib\\site-packages (from imblearn) (0.10.1)\n",
      "Requirement already satisfied: numpy>=1.17.3 in c:\\users\\admin\\anaconda3\\lib\\site-packages (from imbalanced-learn->imblearn) (1.21.5)\n",
      "Requirement already satisfied: scikit-learn>=1.0.2 in c:\\users\\admin\\anaconda3\\lib\\site-packages (from imbalanced-learn->imblearn) (1.0.2)\n",
      "Requirement already satisfied: joblib>=1.1.1 in c:\\users\\admin\\anaconda3\\lib\\site-packages (from imbalanced-learn->imblearn) (1.2.0)\n",
      "Requirement already satisfied: threadpoolctl>=2.0.0 in c:\\users\\admin\\anaconda3\\lib\\site-packages (from imbalanced-learn->imblearn) (2.2.0)\n",
      "Requirement already satisfied: scipy>=1.3.2 in c:\\users\\admin\\anaconda3\\lib\\site-packages (from imbalanced-learn->imblearn) (1.9.1)\n",
      "Requirement already satisfied: imbalanced-learn in c:\\users\\admin\\anaconda3\\lib\\site-packages (0.10.1)\n",
      "Requirement already satisfied: numpy>=1.17.3 in c:\\users\\admin\\anaconda3\\lib\\site-packages (from imbalanced-learn) (1.21.5)\n",
      "Requirement already satisfied: threadpoolctl>=2.0.0 in c:\\users\\admin\\anaconda3\\lib\\site-packages (from imbalanced-learn) (2.2.0)\n",
      "Requirement already satisfied: joblib>=1.1.1 in c:\\users\\admin\\anaconda3\\lib\\site-packages (from imbalanced-learn) (1.2.0)\n",
      "Requirement already satisfied: scikit-learn>=1.0.2 in c:\\users\\admin\\anaconda3\\lib\\site-packages (from imbalanced-learn) (1.0.2)\n",
      "Requirement already satisfied: scipy>=1.3.2 in c:\\users\\admin\\anaconda3\\lib\\site-packages (from imbalanced-learn) (1.9.1)\n"
     ]
    }
   ],
   "source": [
    "!pip install wordcloud\n",
    "!pip install imblearn\n",
    "!pip install --upgrade imbalanced-learn\n",
    "import pandas as pd\n",
    "from sklearn.utils import resample\n",
    "from wordcloud import WordCloud\n",
    "import matplotlib.pyplot as plt\n",
    "import seaborn as sns\n",
    "import numpy as np\n",
    "import re\n",
    "import string\n",
    "from sklearn.feature_extraction.text import TfidfVectorizer, TfidfTransformer, CountVectorizer\n",
    "from sklearn.model_selection import train_test_split\n",
    "from sklearn.metrics import confusion_matrix, precision_score, recall_score, f1_score, accuracy_score, roc_auc_score, roc_curve, precision_recall_curve, plot_precision_recall_curve\n",
    "from sklearn import metrics\n",
    "from sklearn.compose import ColumnTransformer\n",
    "from sklearn.preprocessing import OneHotEncoder\n",
    "from sklearn.model_selection import train_test_split, cross_val_score, GridSearchCV\n",
    "from imblearn.over_sampling import SMOTE\n",
    "from imblearn.under_sampling import TomekLinks\n",
    "\n",
    "from collections import Counter\n",
    "from sklearn import metrics, utils, model_selection, svm\n",
    "from sklearn.naive_bayes import MultinomialNB\n",
    "from sklearn.linear_model import LogisticRegression\n",
    "from sklearn.tree import DecisionTreeClassifier\n",
    "from sklearn.ensemble import RandomForestClassifier\n",
    "from sklearn.svm import LinearSVC\n",
    "from sklearn import svm\n",
    "import pickle\n",
    "import time"
   ]
  },
  {
   "cell_type": "code",
   "execution_count": 3,
   "id": "0fdea959",
   "metadata": {},
   "outputs": [
    {
     "data": {
      "text/html": [
       "<div>\n",
       "<style scoped>\n",
       "    .dataframe tbody tr th:only-of-type {\n",
       "        vertical-align: middle;\n",
       "    }\n",
       "\n",
       "    .dataframe tbody tr th {\n",
       "        vertical-align: top;\n",
       "    }\n",
       "\n",
       "    .dataframe thead th {\n",
       "        text-align: right;\n",
       "    }\n",
       "</style>\n",
       "<table border=\"1\" class=\"dataframe\">\n",
       "  <thead>\n",
       "    <tr style=\"text-align: right;\">\n",
       "      <th></th>\n",
       "      <th>Text</th>\n",
       "      <th>Annotation</th>\n",
       "      <th>oh_label</th>\n",
       "      <th>pre_processed_text</th>\n",
       "    </tr>\n",
       "  </thead>\n",
       "  <tbody>\n",
       "    <tr>\n",
       "      <th>0</th>\n",
       "      <td>i read them in contextno change in meaning the...</td>\n",
       "      <td>none</td>\n",
       "      <td>0</td>\n",
       "      <td>read contextno chang mean histori islam slaveri</td>\n",
       "    </tr>\n",
       "    <tr>\n",
       "      <th>1</th>\n",
       "      <td>now you idiots claim that people who tried to ...</td>\n",
       "      <td>none</td>\n",
       "      <td>0</td>\n",
       "      <td>idiot claim peopl stop terorist made terorist ...</td>\n",
       "    </tr>\n",
       "    <tr>\n",
       "      <th>2</th>\n",
       "      <td>cal me sexist but when i go to an auto place i...</td>\n",
       "      <td>sexism</td>\n",
       "      <td>1</td>\n",
       "      <td>cal sexist auto place talk guy</td>\n",
       "    </tr>\n",
       "    <tr>\n",
       "      <th>3</th>\n",
       "      <td>wrong isis folows the example of mohamed and t...</td>\n",
       "      <td>racism</td>\n",
       "      <td>1</td>\n",
       "      <td>wrong isi folow moham quran</td>\n",
       "    </tr>\n",
       "    <tr>\n",
       "      <th>4</th>\n",
       "      <td>no no no no no no</td>\n",
       "      <td>none</td>\n",
       "      <td>0</td>\n",
       "      <td>NaN</td>\n",
       "    </tr>\n",
       "  </tbody>\n",
       "</table>\n",
       "</div>"
      ],
      "text/plain": [
       "                                                Text Annotation  oh_label  \\\n",
       "0  i read them in contextno change in meaning the...       none         0   \n",
       "1  now you idiots claim that people who tried to ...       none         0   \n",
       "2  cal me sexist but when i go to an auto place i...     sexism         1   \n",
       "3  wrong isis folows the example of mohamed and t...     racism         1   \n",
       "4                                  no no no no no no       none         0   \n",
       "\n",
       "                                  pre_processed_text  \n",
       "0    read contextno chang mean histori islam slaveri  \n",
       "1  idiot claim peopl stop terorist made terorist ...  \n",
       "2                     cal sexist auto place talk guy  \n",
       "3                        wrong isi folow moham quran  \n",
       "4                                                NaN  "
      ]
     },
     "execution_count": 3,
     "metadata": {},
     "output_type": "execute_result"
    }
   ],
   "source": [
    "df = pd.read_csv('twitter_cleaned.csv')\n",
    "df.head()"
   ]
  },
  {
   "cell_type": "code",
   "execution_count": 4,
   "id": "e6f2baa1",
   "metadata": {},
   "outputs": [
    {
     "name": "stdout",
     "output_type": "stream",
     "text": [
      "<class 'pandas.core.frame.DataFrame'>\n",
      "RangeIndex: 16309 entries, 0 to 16308\n",
      "Data columns (total 4 columns):\n",
      " #   Column              Non-Null Count  Dtype \n",
      "---  ------              --------------  ----- \n",
      " 0   Text                16012 non-null  object\n",
      " 1   Annotation          16309 non-null  object\n",
      " 2   oh_label            16309 non-null  int64 \n",
      " 3   pre_processed_text  15762 non-null  object\n",
      "dtypes: int64(1), object(3)\n",
      "memory usage: 509.8+ KB\n"
     ]
    }
   ],
   "source": [
    "df.info()"
   ]
  },
  {
   "cell_type": "code",
   "execution_count": 5,
   "id": "37019a36",
   "metadata": {
    "scrolled": true
   },
   "outputs": [
    {
     "data": {
      "text/plain": [
       "Text                  297\n",
       "Annotation              0\n",
       "oh_label                0\n",
       "pre_processed_text    547\n",
       "dtype: int64"
      ]
     },
     "execution_count": 5,
     "metadata": {},
     "output_type": "execute_result"
    }
   ],
   "source": [
    "df.isnull().sum()"
   ]
  },
  {
   "cell_type": "code",
   "execution_count": 6,
   "id": "a21c416d",
   "metadata": {},
   "outputs": [
    {
     "data": {
      "text/plain": [
       "(16309, 4)"
      ]
     },
     "execution_count": 6,
     "metadata": {},
     "output_type": "execute_result"
    }
   ],
   "source": [
    "df.shape"
   ]
  },
  {
   "cell_type": "code",
   "execution_count": 7,
   "id": "55abaa04",
   "metadata": {},
   "outputs": [
    {
     "data": {
      "text/plain": [
       "array(['none', 'sexism', 'racism'], dtype=object)"
      ]
     },
     "execution_count": 7,
     "metadata": {},
     "output_type": "execute_result"
    }
   ],
   "source": [
    "df['Annotation'].unique()"
   ]
  },
  {
   "cell_type": "code",
   "execution_count": 8,
   "id": "d093640c",
   "metadata": {},
   "outputs": [
    {
     "data": {
      "text/plain": [
       "array([0, 1], dtype=int64)"
      ]
     },
     "execution_count": 8,
     "metadata": {},
     "output_type": "execute_result"
    }
   ],
   "source": [
    "df['oh_label'].unique()"
   ]
  },
  {
   "cell_type": "code",
   "execution_count": 9,
   "id": "3aabb7e0",
   "metadata": {},
   "outputs": [
    {
     "name": "stdout",
     "output_type": "stream",
     "text": [
      "<class 'pandas.core.frame.DataFrame'>\n",
      "RangeIndex: 16309 entries, 0 to 16308\n",
      "Data columns (total 4 columns):\n",
      " #   Column              Non-Null Count  Dtype \n",
      "---  ------              --------------  ----- \n",
      " 0   Text                16012 non-null  object\n",
      " 1   Annotation          16309 non-null  object\n",
      " 2   oh_label            16309 non-null  int64 \n",
      " 3   pre_processed_text  15762 non-null  object\n",
      "dtypes: int64(1), object(3)\n",
      "memory usage: 509.8+ KB\n"
     ]
    }
   ],
   "source": [
    "df.info()"
   ]
  },
  {
   "cell_type": "markdown",
   "id": "eca68ca7",
   "metadata": {},
   "source": [
    "### Checking Class Imbalance of Original Data's Labels"
   ]
  },
  {
   "cell_type": "code",
   "execution_count": 10,
   "id": "31504f83",
   "metadata": {},
   "outputs": [
    {
     "name": "stderr",
     "output_type": "stream",
     "text": [
      "C:\\Users\\Admin\\anaconda3\\lib\\site-packages\\seaborn\\_decorators.py:36: FutureWarning: Pass the following variable as a keyword arg: x. From version 0.12, the only valid positional argument will be `data`, and passing other arguments without an explicit keyword will result in an error or misinterpretation.\n",
      "  warnings.warn(\n"
     ]
    },
    {
     "data": {
      "text/plain": [
       "Text(0.5, 1.0, 'Distribution of Class')"
      ]
     },
     "execution_count": 10,
     "metadata": {},
     "output_type": "execute_result"
    },
    {
     "data": {
      "image/png": "[encoded data removed]",
      "text/plain": [
       "<Figure size 640x480 with 1 Axes>"
      ]
     },
     "metadata": {},
     "output_type": "display_data"
    }
   ],
   "source": [
    "sns.countplot(df['Annotation'], palette='Set3').set_title('Distribution of Class')"
   ]
  },
  {
   "cell_type": "code",
   "execution_count": 11,
   "id": "939aa1e1",
   "metadata": {
    "scrolled": true
   },
   "outputs": [
    {
     "name": "stderr",
     "output_type": "stream",
     "text": [
      "C:\\Users\\Admin\\anaconda3\\lib\\site-packages\\seaborn\\_decorators.py:36: FutureWarning: Pass the following variable as a keyword arg: x. From version 0.12, the only valid positional argument will be `data`, and passing other arguments without an explicit keyword will result in an error or misinterpretation.\n",
      "  warnings.warn(\n"
     ]
    },
    {
     "data": {
      "text/plain": [
       "Text(0.5, 1.0, 'Distribution of Class')"
      ]
     },
     "execution_count": 11,
     "metadata": {},
     "output_type": "execute_result"
    },
    {
     "data": {
      "image/png": "[encoded data removed]",
      "text/plain": [
       "<Figure size 640x480 with 1 Axes>"
      ]
     },
     "metadata": {},
     "output_type": "display_data"
    }
   ],
   "source": [
    "sns.countplot(df['oh_label'], palette='Set2').set_title('Distribution of Class')"
   ]
  },
  {
   "cell_type": "code",
   "execution_count": 12,
   "id": "bf56b97b",
   "metadata": {
    "scrolled": true
   },
   "outputs": [
    {
     "name": "stderr",
     "output_type": "stream",
     "text": [
      "C:\\Users\\Admin\\anaconda3\\lib\\site-packages\\seaborn\\_decorators.py:36: FutureWarning: Pass the following variable as a keyword arg: x. From version 0.12, the only valid positional argument will be `data`, and passing other arguments without an explicit keyword will result in an error or misinterpretation.\n",
      "  warnings.warn(\n"
     ]
    },
    {
     "data": {
      "image/png": "[encoded data removed]",
      "text/plain": [
       "<Figure size 1000x500 with 1 Axes>"
      ]
     },
     "metadata": {},
     "output_type": "display_data"
    }
   ],
   "source": [
    "plt.figure(figsize = (10,5))\n",
    "ax = sns.countplot(df['oh_label'], palette='Set2')\n",
    "\n",
    "ax.set_title('Amount of Tweets Per Label',fontsize = 20)\n",
    "ax.set_xlabel('Type of Tweet',fontsize = 15)\n",
    "ax.set_ylabel('Count',fontsize = 15)\n",
    "ax.set_xticklabels(['Not Bullying','Bullying'],fontsize = 13)\n",
    "\n",
    "total = float(len(df)) # one person per row \n",
    "for p in ax.patches:\n",
    "    height = p.get_height()\n",
    "    ax.text(p.get_x()+p.get_width()/2.,\n",
    "            height + 3,\n",
    "            '{:1.2f}'.format(height/total * 100) + '%',\n",
    "            ha=\"center\") "
   ]
  },
  {
   "cell_type": "code",
   "execution_count": 13,
   "id": "99a413d3",
   "metadata": {},
   "outputs": [
    {
     "data": {
      "text/plain": [
       "0.32258262309154456"
      ]
     },
     "execution_count": 13,
     "metadata": {},
     "output_type": "execute_result"
    }
   ],
   "source": [
    "df['oh_label'].sum() / len(df['oh_label'])"
   ]
  },
  {
   "cell_type": "markdown",
   "id": "94a510a8",
   "metadata": {},
   "source": [
    "### 32% of data is actual bullying "
   ]
  },
  {
   "cell_type": "code",
   "execution_count": 14,
   "id": "e3e85a33",
   "metadata": {},
   "outputs": [],
   "source": [
    "clean_df = df.copy()"
   ]
  },
  {
   "cell_type": "code",
   "execution_count": 15,
   "id": "0be5a4b8",
   "metadata": {},
   "outputs": [
    {
     "data": {
      "text/html": [
       "<div>\n",
       "<style scoped>\n",
       "    .dataframe tbody tr th:only-of-type {\n",
       "        vertical-align: middle;\n",
       "    }\n",
       "\n",
       "    .dataframe tbody tr th {\n",
       "        vertical-align: top;\n",
       "    }\n",
       "\n",
       "    .dataframe thead th {\n",
       "        text-align: right;\n",
       "    }\n",
       "</style>\n",
       "<table border=\"1\" class=\"dataframe\">\n",
       "  <thead>\n",
       "    <tr style=\"text-align: right;\">\n",
       "      <th></th>\n",
       "      <th>Text</th>\n",
       "      <th>Annotation</th>\n",
       "      <th>oh_label</th>\n",
       "      <th>pre_processed_text</th>\n",
       "    </tr>\n",
       "  </thead>\n",
       "  <tbody>\n",
       "    <tr>\n",
       "      <th>0</th>\n",
       "      <td>i read them in contextno change in meaning the...</td>\n",
       "      <td>none</td>\n",
       "      <td>0</td>\n",
       "      <td>read contextno chang mean histori islam slaveri</td>\n",
       "    </tr>\n",
       "    <tr>\n",
       "      <th>1</th>\n",
       "      <td>now you idiots claim that people who tried to ...</td>\n",
       "      <td>none</td>\n",
       "      <td>0</td>\n",
       "      <td>idiot claim peopl stop terorist made terorist ...</td>\n",
       "    </tr>\n",
       "    <tr>\n",
       "      <th>2</th>\n",
       "      <td>cal me sexist but when i go to an auto place i...</td>\n",
       "      <td>sexism</td>\n",
       "      <td>1</td>\n",
       "      <td>cal sexist auto place talk guy</td>\n",
       "    </tr>\n",
       "    <tr>\n",
       "      <th>3</th>\n",
       "      <td>wrong isis folows the example of mohamed and t...</td>\n",
       "      <td>racism</td>\n",
       "      <td>1</td>\n",
       "      <td>wrong isi folow moham quran</td>\n",
       "    </tr>\n",
       "    <tr>\n",
       "      <th>4</th>\n",
       "      <td>no no no no no no</td>\n",
       "      <td>none</td>\n",
       "      <td>0</td>\n",
       "      <td>NaN</td>\n",
       "    </tr>\n",
       "  </tbody>\n",
       "</table>\n",
       "</div>"
      ],
      "text/plain": [
       "                                                Text Annotation  oh_label  \\\n",
       "0  i read them in contextno change in meaning the...       none         0   \n",
       "1  now you idiots claim that people who tried to ...       none         0   \n",
       "2  cal me sexist but when i go to an auto place i...     sexism         1   \n",
       "3  wrong isis folows the example of mohamed and t...     racism         1   \n",
       "4                                  no no no no no no       none         0   \n",
       "\n",
       "                                  pre_processed_text  \n",
       "0    read contextno chang mean histori islam slaveri  \n",
       "1  idiot claim peopl stop terorist made terorist ...  \n",
       "2                     cal sexist auto place talk guy  \n",
       "3                        wrong isi folow moham quran  \n",
       "4                                                NaN  "
      ]
     },
     "execution_count": 15,
     "metadata": {},
     "output_type": "execute_result"
    }
   ],
   "source": [
    "clean_df.head()"
   ]
  },
  {
   "cell_type": "code",
   "execution_count": 16,
   "id": "cf47b148",
   "metadata": {},
   "outputs": [
    {
     "data": {
      "text/plain": [
       "Text                  297\n",
       "Annotation              0\n",
       "oh_label                0\n",
       "pre_processed_text    547\n",
       "dtype: int64"
      ]
     },
     "execution_count": 16,
     "metadata": {},
     "output_type": "execute_result"
    }
   ],
   "source": [
    "clean_df.isnull().sum()"
   ]
  },
  {
   "cell_type": "code",
   "execution_count": 17,
   "id": "2100590f",
   "metadata": {},
   "outputs": [],
   "source": [
    "clean_df = clean_df.dropna(subset=['pre_processed_text','Text'])"
   ]
  },
  {
   "cell_type": "code",
   "execution_count": 18,
   "id": "5a4aef88",
   "metadata": {
    "scrolled": true
   },
   "outputs": [
    {
     "data": {
      "text/plain": [
       "Text                  0\n",
       "Annotation            0\n",
       "oh_label              0\n",
       "pre_processed_text    0\n",
       "dtype: int64"
      ]
     },
     "execution_count": 18,
     "metadata": {},
     "output_type": "execute_result"
    }
   ],
   "source": [
    "clean_df.isnull().sum()"
   ]
  },
  {
   "cell_type": "code",
   "execution_count": 19,
   "id": "280e7d5f",
   "metadata": {},
   "outputs": [
    {
     "data": {
      "text/plain": [
       "(15762, 4)"
      ]
     },
     "execution_count": 19,
     "metadata": {},
     "output_type": "execute_result"
    }
   ],
   "source": [
    "clean_df.shape"
   ]
  },
  {
   "cell_type": "code",
   "execution_count": 20,
   "id": "4ce62675",
   "metadata": {},
   "outputs": [
    {
     "data": {
      "text/html": [
       "<div>\n",
       "<style scoped>\n",
       "    .dataframe tbody tr th:only-of-type {\n",
       "        vertical-align: middle;\n",
       "    }\n",
       "\n",
       "    .dataframe tbody tr th {\n",
       "        vertical-align: top;\n",
       "    }\n",
       "\n",
       "    .dataframe thead th {\n",
       "        text-align: right;\n",
       "    }\n",
       "</style>\n",
       "<table border=\"1\" class=\"dataframe\">\n",
       "  <thead>\n",
       "    <tr style=\"text-align: right;\">\n",
       "      <th></th>\n",
       "      <th>Text</th>\n",
       "      <th>Annotation</th>\n",
       "      <th>oh_label</th>\n",
       "      <th>pre_processed_text</th>\n",
       "      <th>clean_tweets</th>\n",
       "    </tr>\n",
       "  </thead>\n",
       "  <tbody>\n",
       "    <tr>\n",
       "      <th>0</th>\n",
       "      <td>i read them in contextno change in meaning the...</td>\n",
       "      <td>none</td>\n",
       "      <td>0</td>\n",
       "      <td>read contextno chang mean histori islam slaveri</td>\n",
       "      <td>read contextno chang mean histori islam slaveri</td>\n",
       "    </tr>\n",
       "    <tr>\n",
       "      <th>1</th>\n",
       "      <td>now you idiots claim that people who tried to ...</td>\n",
       "      <td>none</td>\n",
       "      <td>0</td>\n",
       "      <td>idiot claim peopl stop terorist made terorist ...</td>\n",
       "      <td>idiot claim peopl stop terorist made terorist ...</td>\n",
       "    </tr>\n",
       "    <tr>\n",
       "      <th>2</th>\n",
       "      <td>cal me sexist but when i go to an auto place i...</td>\n",
       "      <td>sexism</td>\n",
       "      <td>1</td>\n",
       "      <td>cal sexist auto place talk guy</td>\n",
       "      <td>cal sexist auto place talk guy</td>\n",
       "    </tr>\n",
       "    <tr>\n",
       "      <th>3</th>\n",
       "      <td>wrong isis folows the example of mohamed and t...</td>\n",
       "      <td>racism</td>\n",
       "      <td>1</td>\n",
       "      <td>wrong isi folow moham quran</td>\n",
       "      <td>wrong isi folow moham quran</td>\n",
       "    </tr>\n",
       "    <tr>\n",
       "      <th>5</th>\n",
       "      <td>saudi preacher who raped and tortured his five...</td>\n",
       "      <td>none</td>\n",
       "      <td>0</td>\n",
       "      <td>saudi preacher rape tortur yearold daughter de...</td>\n",
       "      <td>saudi preacher rape tortur yearold daughter de...</td>\n",
       "    </tr>\n",
       "    <tr>\n",
       "      <th>...</th>\n",
       "      <td>...</td>\n",
       "      <td>...</td>\n",
       "      <td>...</td>\n",
       "      <td>...</td>\n",
       "      <td>...</td>\n",
       "    </tr>\n",
       "    <tr>\n",
       "      <th>16304</th>\n",
       "      <td>feling so sory for the girls they should be sa...</td>\n",
       "      <td>none</td>\n",
       "      <td>0</td>\n",
       "      <td>fele sori girl safe kat andr home</td>\n",
       "      <td>fele sori girl safe kat andr home</td>\n",
       "    </tr>\n",
       "    <tr>\n",
       "      <th>16305</th>\n",
       "      <td>prety god dishes we are hapy with ok wel never...</td>\n",
       "      <td>none</td>\n",
       "      <td>0</td>\n",
       "      <td>preti god dish hapi wel eat place</td>\n",
       "      <td>preti god dish hapi wel eat place</td>\n",
       "    </tr>\n",
       "    <tr>\n",
       "      <th>16306</th>\n",
       "      <td>deconstructed lemon tartcan we please go just ...</td>\n",
       "      <td>none</td>\n",
       "      <td>0</td>\n",
       "      <td>deconstruct lemon tartcan season cale deconstruct</td>\n",
       "      <td>deconstruct lemon tartcan season cale deconstruct</td>\n",
       "    </tr>\n",
       "    <tr>\n",
       "      <th>16307</th>\n",
       "      <td>you are to stupid to talk to blocked</td>\n",
       "      <td>none</td>\n",
       "      <td>0</td>\n",
       "      <td>stupid talk block</td>\n",
       "      <td>stupid talk block</td>\n",
       "    </tr>\n",
       "    <tr>\n",
       "      <th>16308</th>\n",
       "      <td>and before you protest that you are not mad th...</td>\n",
       "      <td>none</td>\n",
       "      <td>0</td>\n",
       "      <td>protest mad reason twete women femin</td>\n",
       "      <td>protest mad reason twete women femin</td>\n",
       "    </tr>\n",
       "  </tbody>\n",
       "</table>\n",
       "<p>15762 rows × 5 columns</p>\n",
       "</div>"
      ],
      "text/plain": [
       "                                                    Text Annotation  oh_label  \\\n",
       "0      i read them in contextno change in meaning the...       none         0   \n",
       "1      now you idiots claim that people who tried to ...       none         0   \n",
       "2      cal me sexist but when i go to an auto place i...     sexism         1   \n",
       "3      wrong isis folows the example of mohamed and t...     racism         1   \n",
       "5      saudi preacher who raped and tortured his five...       none         0   \n",
       "...                                                  ...        ...       ...   \n",
       "16304  feling so sory for the girls they should be sa...       none         0   \n",
       "16305  prety god dishes we are hapy with ok wel never...       none         0   \n",
       "16306  deconstructed lemon tartcan we please go just ...       none         0   \n",
       "16307               you are to stupid to talk to blocked       none         0   \n",
       "16308  and before you protest that you are not mad th...       none         0   \n",
       "\n",
       "                                      pre_processed_text  \\\n",
       "0        read contextno chang mean histori islam slaveri   \n",
       "1      idiot claim peopl stop terorist made terorist ...   \n",
       "2                         cal sexist auto place talk guy   \n",
       "3                            wrong isi folow moham quran   \n",
       "5      saudi preacher rape tortur yearold daughter de...   \n",
       "...                                                  ...   \n",
       "16304                  fele sori girl safe kat andr home   \n",
       "16305                  preti god dish hapi wel eat place   \n",
       "16306  deconstruct lemon tartcan season cale deconstruct   \n",
       "16307                                  stupid talk block   \n",
       "16308               protest mad reason twete women femin   \n",
       "\n",
       "                                            clean_tweets  \n",
       "0        read contextno chang mean histori islam slaveri  \n",
       "1      idiot claim peopl stop terorist made terorist ...  \n",
       "2                         cal sexist auto place talk guy  \n",
       "3                            wrong isi folow moham quran  \n",
       "5      saudi preacher rape tortur yearold daughter de...  \n",
       "...                                                  ...  \n",
       "16304                  fele sori girl safe kat andr home  \n",
       "16305                  preti god dish hapi wel eat place  \n",
       "16306  deconstruct lemon tartcan season cale deconstruct  \n",
       "16307                                  stupid talk block  \n",
       "16308               protest mad reason twete women femin  \n",
       "\n",
       "[15762 rows x 5 columns]"
      ]
     },
     "execution_count": 20,
     "metadata": {},
     "output_type": "execute_result"
    }
   ],
   "source": [
    "clean_df['clean_tweets'] = clean_df['pre_processed_text']\n",
    "clean_df"
   ]
  },
  {
   "cell_type": "code",
   "execution_count": 21,
   "id": "f64856d1",
   "metadata": {},
   "outputs": [],
   "source": [
    "clean_df = clean_df.drop([\"pre_processed_text\", \"Text\"], axis = 1)"
   ]
  },
  {
   "cell_type": "code",
   "execution_count": 22,
   "id": "c080753c",
   "metadata": {},
   "outputs": [
    {
     "data": {
      "text/html": [
       "<div>\n",
       "<style scoped>\n",
       "    .dataframe tbody tr th:only-of-type {\n",
       "        vertical-align: middle;\n",
       "    }\n",
       "\n",
       "    .dataframe tbody tr th {\n",
       "        vertical-align: top;\n",
       "    }\n",
       "\n",
       "    .dataframe thead th {\n",
       "        text-align: right;\n",
       "    }\n",
       "</style>\n",
       "<table border=\"1\" class=\"dataframe\">\n",
       "  <thead>\n",
       "    <tr style=\"text-align: right;\">\n",
       "      <th></th>\n",
       "      <th>Annotation</th>\n",
       "      <th>oh_label</th>\n",
       "      <th>clean_tweets</th>\n",
       "    </tr>\n",
       "  </thead>\n",
       "  <tbody>\n",
       "    <tr>\n",
       "      <th>0</th>\n",
       "      <td>none</td>\n",
       "      <td>0</td>\n",
       "      <td>read contextno chang mean histori islam slaveri</td>\n",
       "    </tr>\n",
       "    <tr>\n",
       "      <th>1</th>\n",
       "      <td>none</td>\n",
       "      <td>0</td>\n",
       "      <td>idiot claim peopl stop terorist made terorist ...</td>\n",
       "    </tr>\n",
       "    <tr>\n",
       "      <th>2</th>\n",
       "      <td>sexism</td>\n",
       "      <td>1</td>\n",
       "      <td>cal sexist auto place talk guy</td>\n",
       "    </tr>\n",
       "    <tr>\n",
       "      <th>3</th>\n",
       "      <td>racism</td>\n",
       "      <td>1</td>\n",
       "      <td>wrong isi folow moham quran</td>\n",
       "    </tr>\n",
       "    <tr>\n",
       "      <th>5</th>\n",
       "      <td>none</td>\n",
       "      <td>0</td>\n",
       "      <td>saudi preacher rape tortur yearold daughter de...</td>\n",
       "    </tr>\n",
       "    <tr>\n",
       "      <th>...</th>\n",
       "      <td>...</td>\n",
       "      <td>...</td>\n",
       "      <td>...</td>\n",
       "    </tr>\n",
       "    <tr>\n",
       "      <th>16304</th>\n",
       "      <td>none</td>\n",
       "      <td>0</td>\n",
       "      <td>fele sori girl safe kat andr home</td>\n",
       "    </tr>\n",
       "    <tr>\n",
       "      <th>16305</th>\n",
       "      <td>none</td>\n",
       "      <td>0</td>\n",
       "      <td>preti god dish hapi wel eat place</td>\n",
       "    </tr>\n",
       "    <tr>\n",
       "      <th>16306</th>\n",
       "      <td>none</td>\n",
       "      <td>0</td>\n",
       "      <td>deconstruct lemon tartcan season cale deconstruct</td>\n",
       "    </tr>\n",
       "    <tr>\n",
       "      <th>16307</th>\n",
       "      <td>none</td>\n",
       "      <td>0</td>\n",
       "      <td>stupid talk block</td>\n",
       "    </tr>\n",
       "    <tr>\n",
       "      <th>16308</th>\n",
       "      <td>none</td>\n",
       "      <td>0</td>\n",
       "      <td>protest mad reason twete women femin</td>\n",
       "    </tr>\n",
       "  </tbody>\n",
       "</table>\n",
       "<p>15762 rows × 3 columns</p>\n",
       "</div>"
      ],
      "text/plain": [
       "      Annotation  oh_label                                       clean_tweets\n",
       "0           none         0    read contextno chang mean histori islam slaveri\n",
       "1           none         0  idiot claim peopl stop terorist made terorist ...\n",
       "2         sexism         1                     cal sexist auto place talk guy\n",
       "3         racism         1                        wrong isi folow moham quran\n",
       "5           none         0  saudi preacher rape tortur yearold daughter de...\n",
       "...          ...       ...                                                ...\n",
       "16304       none         0                  fele sori girl safe kat andr home\n",
       "16305       none         0                  preti god dish hapi wel eat place\n",
       "16306       none         0  deconstruct lemon tartcan season cale deconstruct\n",
       "16307       none         0                                  stupid talk block\n",
       "16308       none         0               protest mad reason twete women femin\n",
       "\n",
       "[15762 rows x 3 columns]"
      ]
     },
     "execution_count": 22,
     "metadata": {},
     "output_type": "execute_result"
    }
   ],
   "source": [
    "clean_df"
   ]
  },
  {
   "cell_type": "code",
   "execution_count": 23,
   "id": "16fc2e26",
   "metadata": {},
   "outputs": [],
   "source": [
    "tweet_df = clean_df[['clean_tweets', 'oh_label']].copy()"
   ]
  },
  {
   "cell_type": "code",
   "execution_count": 24,
   "id": "976a44ec",
   "metadata": {},
   "outputs": [
    {
     "data": {
      "text/html": [
       "<div>\n",
       "<style scoped>\n",
       "    .dataframe tbody tr th:only-of-type {\n",
       "        vertical-align: middle;\n",
       "    }\n",
       "\n",
       "    .dataframe tbody tr th {\n",
       "        vertical-align: top;\n",
       "    }\n",
       "\n",
       "    .dataframe thead th {\n",
       "        text-align: right;\n",
       "    }\n",
       "</style>\n",
       "<table border=\"1\" class=\"dataframe\">\n",
       "  <thead>\n",
       "    <tr style=\"text-align: right;\">\n",
       "      <th></th>\n",
       "      <th>clean_tweets</th>\n",
       "      <th>oh_label</th>\n",
       "    </tr>\n",
       "  </thead>\n",
       "  <tbody>\n",
       "    <tr>\n",
       "      <th>0</th>\n",
       "      <td>read contextno chang mean histori islam slaveri</td>\n",
       "      <td>0</td>\n",
       "    </tr>\n",
       "    <tr>\n",
       "      <th>1</th>\n",
       "      <td>idiot claim peopl stop terorist made terorist ...</td>\n",
       "      <td>0</td>\n",
       "    </tr>\n",
       "    <tr>\n",
       "      <th>2</th>\n",
       "      <td>cal sexist auto place talk guy</td>\n",
       "      <td>1</td>\n",
       "    </tr>\n",
       "    <tr>\n",
       "      <th>3</th>\n",
       "      <td>wrong isi folow moham quran</td>\n",
       "      <td>1</td>\n",
       "    </tr>\n",
       "    <tr>\n",
       "      <th>5</th>\n",
       "      <td>saudi preacher rape tortur yearold daughter de...</td>\n",
       "      <td>0</td>\n",
       "    </tr>\n",
       "  </tbody>\n",
       "</table>\n",
       "</div>"
      ],
      "text/plain": [
       "                                        clean_tweets  oh_label\n",
       "0    read contextno chang mean histori islam slaveri         0\n",
       "1  idiot claim peopl stop terorist made terorist ...         0\n",
       "2                     cal sexist auto place talk guy         1\n",
       "3                        wrong isi folow moham quran         1\n",
       "5  saudi preacher rape tortur yearold daughter de...         0"
      ]
     },
     "execution_count": 24,
     "metadata": {},
     "output_type": "execute_result"
    }
   ],
   "source": [
    "tweet_df.head()"
   ]
  },
  {
   "cell_type": "code",
   "execution_count": 25,
   "id": "8f6ed71a",
   "metadata": {},
   "outputs": [
    {
     "data": {
      "text/plain": [
       "(15762, 2)"
      ]
     },
     "execution_count": 25,
     "metadata": {},
     "output_type": "execute_result"
    }
   ],
   "source": [
    "tweet_df.shape"
   ]
  },
  {
   "cell_type": "code",
   "execution_count": 26,
   "id": "b4d9aab9",
   "metadata": {},
   "outputs": [],
   "source": [
    "data = tweet_df['clean_tweets']\n",
    "target = tweet_df['oh_label']"
   ]
  },
  {
   "cell_type": "markdown",
   "id": "c358c3a3",
   "metadata": {},
   "source": [
    "### Tokenizing Before Removing Stop Words"
   ]
  },
  {
   "cell_type": "code",
   "execution_count": 27,
   "id": "8fb0eac6",
   "metadata": {},
   "outputs": [],
   "source": [
    "# function to tokenize without removing stop words\n",
    "import nltk\n",
    "from sklearn.feature_extraction import text \n",
    "from nltk.stem import WordNetLemmatizer \n",
    "from nltk.probability import FreqDist\n",
    "from nltk.corpus import stopwords\n",
    "from nltk.stem import PorterStemmer\n",
    "from nltk.collocations import *\n",
    "def unfiltered_tokens(text):\n",
    "    dirty_tokens = nltk.word_tokenize(text)\n",
    "    return dirty_tokens"
   ]
  },
  {
   "cell_type": "code",
   "execution_count": 28,
   "id": "27b9b614",
   "metadata": {},
   "outputs": [],
   "source": [
    "# applying this function to the `clean_tweets` column\n",
    "unfilterd_data = list(map(unfiltered_tokens, data))"
   ]
  },
  {
   "cell_type": "code",
   "execution_count": 29,
   "id": "b59de1f0",
   "metadata": {},
   "outputs": [],
   "source": [
    "# morphing `unfiltered_data` into a readable list\n",
    "flat_unfiltered = [item for sublist in unfilterd_data for item in sublist]"
   ]
  },
  {
   "cell_type": "code",
   "execution_count": 30,
   "id": "f06163e6",
   "metadata": {},
   "outputs": [
    {
     "data": {
      "text/plain": [
       "[('sexist', 1059),\n",
       " ('women', 950),\n",
       " ('al', 950),\n",
       " ('kat', 946),\n",
       " ('wil', 837),\n",
       " ('islam', 822),\n",
       " ('muslim', 750),\n",
       " ('peopl', 678),\n",
       " ('girl', 570),\n",
       " ('make', 550),\n",
       " ('god', 525),\n",
       " ('time', 461),\n",
       " ('andr', 428),\n",
       " ('fuck', 423),\n",
       " ('se', 398),\n",
       " ('reali', 386),\n",
       " ('men', 375),\n",
       " ('thing', 359),\n",
       " ('isi', 349),\n",
       " ('lok', 348)]"
      ]
     },
     "execution_count": 30,
     "metadata": {},
     "output_type": "execute_result"
    }
   ],
   "source": [
    "# getting frequency distribution\n",
    "dirty_corpus_freqdist = FreqDist(flat_unfiltered)\n",
    "# top 20 words in the corpus\n",
    "dirty_corpus_freqdist.most_common(20)"
   ]
  },
  {
   "cell_type": "markdown",
   "id": "6abe0bda",
   "metadata": {},
   "source": [
    "### Removing Stop Words in Tokenization"
   ]
  },
  {
   "cell_type": "code",
   "execution_count": 31,
   "id": "6dbc07c4",
   "metadata": {},
   "outputs": [],
   "source": [
    "stop_words = set(stopwords.words('english'))"
   ]
  },
  {
   "cell_type": "code",
   "execution_count": 32,
   "id": "0878e4f1",
   "metadata": {},
   "outputs": [],
   "source": [
    "def process_tweet(text):\n",
    "    tokens = nltk.word_tokenize(text)\n",
    "    stopwords_removed = [token.lower() for token in tokens if token.lower() not in stop_words]\n",
    "    return stopwords_removed "
   ]
  },
  {
   "cell_type": "code",
   "execution_count": 33,
   "id": "f7126a1b",
   "metadata": {},
   "outputs": [],
   "source": [
    "# applying the above function to our data/features \n",
    "processed_data = list(map(process_tweet, data))"
   ]
  },
  {
   "cell_type": "code",
   "execution_count": 34,
   "id": "fbffc243",
   "metadata": {},
   "outputs": [
    {
     "data": {
      "text/plain": [
       "10530"
      ]
     },
     "execution_count": 34,
     "metadata": {},
     "output_type": "execute_result"
    }
   ],
   "source": [
    "total_vocab = set()\n",
    "for comment in processed_data:\n",
    "    total_vocab.update(comment)\n",
    "len(total_vocab)"
   ]
  },
  {
   "cell_type": "markdown",
   "id": "a258cfcc",
   "metadata": {},
   "source": [
    "Here we can see that our corpus has a vocabulary of 16212. This would also be the number of columns in the sparse matrix after we vectorize the data later.\n",
    "\n",
    "Now that the stop words are removed and the corpus is tokenized, let's take a look at the top words in this corpus"
   ]
  },
  {
   "cell_type": "code",
   "execution_count": 35,
   "id": "e78b8cb3",
   "metadata": {},
   "outputs": [
    {
     "data": {
      "text/plain": [
       "[('sexist', 1059),\n",
       " ('women', 950),\n",
       " ('al', 950),\n",
       " ('kat', 946),\n",
       " ('wil', 837),\n",
       " ('islam', 822),\n",
       " ('muslim', 750),\n",
       " ('peopl', 678),\n",
       " ('girl', 570),\n",
       " ('make', 550),\n",
       " ('god', 525),\n",
       " ('time', 461),\n",
       " ('andr', 428),\n",
       " ('fuck', 423),\n",
       " ('se', 398),\n",
       " ('reali', 386),\n",
       " ('men', 375),\n",
       " ('thing', 359),\n",
       " ('isi', 349),\n",
       " ('lok', 348)]"
      ]
     },
     "execution_count": 35,
     "metadata": {},
     "output_type": "execute_result"
    }
   ],
   "source": [
    "# morphing `processed_data` into a readable list\n",
    "flat_filtered = [item for sublist in processed_data for item in sublist]\n",
    "# getting frequency distribution\n",
    "clean_corpus_freqdist = FreqDist(flat_filtered)\n",
    "# top 20 words in cleaned corpus\n",
    "clean_corpus_freqdist.most_common(20)"
   ]
  },
  {
   "cell_type": "markdown",
   "id": "e31631b5",
   "metadata": {},
   "source": [
    "We can see that the \"meaningless\" stop words have been removed from the corpus. Some of the words here are still up for debate, but let's run this data through some baseline models and see how they perform."
   ]
  },
  {
   "cell_type": "code",
   "execution_count": 36,
   "id": "a067c1f2",
   "metadata": {},
   "outputs": [
    {
     "name": "stderr",
     "output_type": "stream",
     "text": [
      "[nltk_data] Downloading package wordnet to\n",
      "[nltk_data]     C:\\Users\\Admin\\AppData\\Roaming\\nltk_data...\n",
      "[nltk_data]   Package wordnet is already up-to-date!\n",
      "[nltk_data] Downloading package omw-1.4 to\n",
      "[nltk_data]     C:\\Users\\Admin\\AppData\\Roaming\\nltk_data...\n",
      "[nltk_data]   Package omw-1.4 is already up-to-date!\n"
     ]
    }
   ],
   "source": [
    "# creating a list with all lemmatized outputs\n",
    "import nltk\n",
    "from sklearn.feature_extraction import text \n",
    "nltk.download('wordnet')\n",
    "nltk.download('omw-1.4')\n",
    "from nltk.stem import WordNetLemmatizer \n",
    "from nltk.probability import FreqDist\n",
    "from nltk.corpus import stopwords\n",
    "from nltk.stem import PorterStemmer\n",
    "from nltk.collocations import *\n",
    "lemmatizer = WordNetLemmatizer() \n",
    "lemmatized_output = []\n",
    "\n",
    "for listy in processed_data:\n",
    "    lemmed = ' '.join([lemmatizer.lemmatize(w) for w in listy])\n",
    "    lemmatized_output.append(lemmed)"
   ]
  },
  {
   "cell_type": "code",
   "execution_count": 161,
   "id": "8beec8d5",
   "metadata": {},
   "outputs": [],
   "source": [
    "X_lem = lemmatized_output\n",
    "y_lem = target"
   ]
  },
  {
   "cell_type": "markdown",
   "id": "cc3997d5",
   "metadata": {},
   "source": [
    "### Additional Corpus EDA - Creating Bigrams"
   ]
  },
  {
   "cell_type": "code",
   "execution_count": 38,
   "id": "310804d7",
   "metadata": {},
   "outputs": [],
   "source": [
    "bigram_measures = nltk.collocations.BigramAssocMeasures()"
   ]
  },
  {
   "cell_type": "code",
   "execution_count": 39,
   "id": "9573a2d3",
   "metadata": {},
   "outputs": [],
   "source": [
    "\n",
    "# creating a finder & passing in tokenized corpus\n",
    "bigram_finder = BigramCollocationFinder.from_words(flat_filtered)"
   ]
  },
  {
   "cell_type": "code",
   "execution_count": 40,
   "id": "a8a762ad",
   "metadata": {},
   "outputs": [],
   "source": [
    "\n",
    "# computing bigram scores\n",
    "corpus_scored = bigram_finder.score_ngrams(bigram_measures.raw_freq)"
   ]
  },
  {
   "cell_type": "code",
   "execution_count": 41,
   "id": "c9b9bf87",
   "metadata": {
    "scrolled": true
   },
   "outputs": [
    {
     "data": {
      "text/plain": [
       "[(('kat', 'andr'), 0.0038524925731921104),\n",
       " (('cal', 'sexist'), 0.0019314949140799681),\n",
       " (('sexist', 'women'), 0.0012491733411712836),\n",
       " (('instant', 'restaur'), 0.0011127090265895469),\n",
       " (('declar', 'war'), 0.0006508298080052066),\n",
       " (('kati', 'niki'), 0.0006508298080052066),\n",
       " (('quran', 'hadith'), 0.0006508298080052066),\n",
       " (('prophet', 'moham'), 0.0006403325530373807),\n",
       " (('sexist', 'girl'), 0.0006298352980695549),\n",
       " (('suden', 'death'), 0.0005773490232304253),\n",
       " (('sexist', 'femal'), 0.0005563545132947734),\n",
       " (('year', 'ago'), 0.0005038682384556439),\n",
       " (('lemon', 'tart'), 0.0004933709834878179),\n",
       " (('ani', 'lloyd'), 0.0004723764735521661),\n",
       " (('war', 'al'), 0.00040939294374521063),\n",
       " (('restaur', 'round'), 0.0003988956887773847),\n",
       " (('al', 'human'), 0.000367403923873907),\n",
       " (('promo', 'girl'), 0.000367403923873907),\n",
       " (('kat', 'andamp'), 0.00034640941393825514),\n",
       " (('hate', 'kat'), 0.0003359121589704292)]"
      ]
     },
     "execution_count": 41,
     "metadata": {},
     "output_type": "execute_result"
    }
   ],
   "source": [
    "# top 20 bigrams\n",
    "corpus_scored[:20]"
   ]
  },
  {
   "cell_type": "markdown",
   "id": "7f60d565",
   "metadata": {},
   "source": [
    "### Calculating Mutual Information Scores"
   ]
  },
  {
   "cell_type": "markdown",
   "id": "05aca393",
   "metadata": {},
   "source": [
    "Pointwise Mutual Information Score is a statistical measure from information theory that generally measures the mutual dependence between two words. In plain english, this measures how much information the bigram itself contains by computing the dependence between the two words in the bigram."
   ]
  },
  {
   "cell_type": "code",
   "execution_count": 42,
   "id": "7a6c7aa7",
   "metadata": {},
   "outputs": [],
   "source": [
    "# creating a finder for pmi & passing in torkenized corpus\n",
    "pmi_finder = BigramCollocationFinder.from_words(flat_filtered)"
   ]
  },
  {
   "cell_type": "code",
   "execution_count": 43,
   "id": "34ddd376",
   "metadata": {},
   "outputs": [],
   "source": [
    "# applying frequency filter that only examines bigrams that occur more than 5 times\n",
    "pmi_finder.apply_freq_filter(5)"
   ]
  },
  {
   "cell_type": "code",
   "execution_count": 44,
   "id": "71c060bf",
   "metadata": {},
   "outputs": [],
   "source": [
    "# using finder to calculate pmi scores\n",
    "pmi_scored = pmi_finder.score_ngrams(bigram_measures.pmi)"
   ]
  },
  {
   "cell_type": "code",
   "execution_count": 45,
   "id": "3ed08824",
   "metadata": {},
   "outputs": [
    {
     "data": {
      "text/plain": [
       "[(('boko', 'haram'), 13.954665861258679),\n",
       " (('alahu', 'akbar'), 13.732273439922235),\n",
       " (('fairi', 'tale'), 13.732273439922235),\n",
       " (('te', 'ching'), 13.732273439922231),\n",
       " (('silicon', 'valey'), 13.539628361979837),\n",
       " (('net', 'neutral'), 13.054201534809595),\n",
       " (('nobel', 'prize'), 13.054201534809595),\n",
       " (('masha', 'gesen'), 12.95466586125868),\n",
       " (('leonard', 'nimoy'), 12.732273439922235),\n",
       " (('ethnic', 'cleans'), 12.732273439922231),\n",
       " (('pact', 'umar'), 12.665159244063698),\n",
       " (('tal', 'abyad'), 12.539628361979837),\n",
       " (('star', 'trek'), 12.4521655207295),\n",
       " (('tao', 'te'), 12.353761816668502),\n",
       " (('cou', 'cou'), 12.217700267092475),\n",
       " (('chlorin', 'ga'), 12.124590862700995),\n",
       " (('tal', 'afar'), 12.054201534809595),\n",
       " (('caravan', 'rober'), 12.037128021450654),\n",
       " (('politicali', 'corect'), 11.966738693559254),\n",
       " (('na', 'na'), 11.950663930701186),\n",
       " (('arabian', 'peninsula'), 11.928193649897489),\n",
       " (('shave', 'novemb'), 11.869776963672166),\n",
       " (('sogi', 'bread'), 11.802662767813633),\n",
       " (('polit', 'corectn'), 11.784740859816367),\n",
       " (('eva', 'debra'), 11.739652970287832),\n",
       " (('jac', 'shaz'), 11.67782565589986),\n",
       " (('militari', 'expedit'), 11.632737766371317),\n",
       " (('ice', 'cream'), 11.599823143898586),\n",
       " (('reveng', 'porn'), 11.539628361979837),\n",
       " (('midl', 'east'), 11.50720688428746)]"
      ]
     },
     "execution_count": 45,
     "metadata": {},
     "output_type": "execute_result"
    }
   ],
   "source": [
    "# first 30 elements in this list\n",
    "pmi_scored[:30]"
   ]
  },
  {
   "cell_type": "markdown",
   "id": "5af29d8c",
   "metadata": {},
   "source": [
    "These are the top 30 bigrams, according to PMI score. Most of these are identifiable as English slang terms. Def Loaf is an american rapper, and Shylock is a malware that targets banks.\n",
    "\n",
    "We can impliment bigrams into models using ngram_range during the TF-IDF vectorization stage. From there, we can start running some baseline models to see how they perform with this data."
   ]
  },
  {
   "cell_type": "code",
   "execution_count": 46,
   "id": "319ce4c3",
   "metadata": {},
   "outputs": [],
   "source": [
    "bigrams_list = pmi_scored[:30]"
   ]
  },
  {
   "cell_type": "code",
   "execution_count": 47,
   "id": "8d2ac941",
   "metadata": {},
   "outputs": [
    {
     "data": {
      "text/plain": [
       "[(('boko', 'haram'), 13.954665861258679),\n",
       " (('alahu', 'akbar'), 13.732273439922235),\n",
       " (('fairi', 'tale'), 13.732273439922235),\n",
       " (('te', 'ching'), 13.732273439922231),\n",
       " (('silicon', 'valey'), 13.539628361979837),\n",
       " (('net', 'neutral'), 13.054201534809595),\n",
       " (('nobel', 'prize'), 13.054201534809595),\n",
       " (('masha', 'gesen'), 12.95466586125868),\n",
       " (('leonard', 'nimoy'), 12.732273439922235),\n",
       " (('ethnic', 'cleans'), 12.732273439922231),\n",
       " (('pact', 'umar'), 12.665159244063698),\n",
       " (('tal', 'abyad'), 12.539628361979837),\n",
       " (('star', 'trek'), 12.4521655207295),\n",
       " (('tao', 'te'), 12.353761816668502),\n",
       " (('cou', 'cou'), 12.217700267092475),\n",
       " (('chlorin', 'ga'), 12.124590862700995),\n",
       " (('tal', 'afar'), 12.054201534809595),\n",
       " (('caravan', 'rober'), 12.037128021450654),\n",
       " (('politicali', 'corect'), 11.966738693559254),\n",
       " (('na', 'na'), 11.950663930701186),\n",
       " (('arabian', 'peninsula'), 11.928193649897489),\n",
       " (('shave', 'novemb'), 11.869776963672166),\n",
       " (('sogi', 'bread'), 11.802662767813633),\n",
       " (('polit', 'corectn'), 11.784740859816367),\n",
       " (('eva', 'debra'), 11.739652970287832),\n",
       " (('jac', 'shaz'), 11.67782565589986),\n",
       " (('militari', 'expedit'), 11.632737766371317),\n",
       " (('ice', 'cream'), 11.599823143898586),\n",
       " (('reveng', 'porn'), 11.539628361979837),\n",
       " (('midl', 'east'), 11.50720688428746)]"
      ]
     },
     "execution_count": 47,
     "metadata": {},
     "output_type": "execute_result"
    }
   ],
   "source": [
    "bigrams_list"
   ]
  },
  {
   "cell_type": "markdown",
   "id": "6a53f612",
   "metadata": {},
   "source": [
    "### Visualizing Bigram Frequency"
   ]
  },
  {
   "cell_type": "code",
   "execution_count": 48,
   "id": "a3961c2d",
   "metadata": {},
   "outputs": [],
   "source": [
    "bigrams_series = (pd.Series(nltk.ngrams(flat_filtered, 2)).value_counts())[:20]"
   ]
  },
  {
   "cell_type": "code",
   "execution_count": 49,
   "id": "c4db2aa4",
   "metadata": {},
   "outputs": [
    {
     "data": {
      "text/plain": [
       "Text(0.5, 0, 'Number of Occurances')"
      ]
     },
     "execution_count": 49,
     "metadata": {},
     "output_type": "execute_result"
    },
    {
     "data": {
      "image/png": "[encoded data removed]",
      "text/plain": [
       "<Figure size 1200x800 with 1 Axes>"
      ]
     },
     "metadata": {},
     "output_type": "display_data"
    }
   ],
   "source": [
    "import matplotlib.pyplot as plt\n",
    "from matplotlib import cm\n",
    "bigrams_series.sort_values().plot.barh(color=cm.viridis_r(np.linspace(.4,.8, 30)), width=.9, figsize=(12, 8))\n",
    "plt.title('20 Most Frequently Occurring Bigrams', fontsize=18)\n",
    "plt.ylabel('Bigram', fontsize=18)\n",
    "plt.xlabel('Number of Occurances', fontsize=18)"
   ]
  },
  {
   "cell_type": "markdown",
   "id": "d0e03b29",
   "metadata": {},
   "source": [
    "### Most Frequent Words for Each Classification"
   ]
  },
  {
   "cell_type": "code",
   "execution_count": 50,
   "id": "504277d7",
   "metadata": {},
   "outputs": [],
   "source": [
    "# creating new dfs for each classification\n",
    "df_freq_bullying = tweet_df[tweet_df['oh_label']==1]\n",
    "df_freq_not_bullying = tweet_df[tweet_df['oh_label']==0]"
   ]
  },
  {
   "cell_type": "code",
   "execution_count": 51,
   "id": "93c7e99d",
   "metadata": {},
   "outputs": [],
   "source": [
    "# pulling out the text data for cleaned tweets\n",
    "data_bullying = df_freq_bullying['clean_tweets']\n",
    "data_not_bullying = df_freq_not_bullying['clean_tweets']"
   ]
  },
  {
   "cell_type": "code",
   "execution_count": 52,
   "id": "e2afe161",
   "metadata": {},
   "outputs": [],
   "source": [
    "# function to tokenize tweets and remove stop words with NLTK built-in library\n",
    "stop_words = set(stopwords.words('english'))\n",
    "def process_tweet(text):\n",
    "    tokens = nltk.word_tokenize(text)\n",
    "    stopwords_removed = [token.lower() for token in tokens if token.lower() not in stop_words]\n",
    "    return stopwords_removed "
   ]
  },
  {
   "cell_type": "code",
   "execution_count": 53,
   "id": "4c56ad6f",
   "metadata": {},
   "outputs": [],
   "source": [
    "# creating lists for processed bullying & not bullying data\n",
    "process_bullying = list(map(process_tweet, data_bullying))\n",
    "process_not_bullying = list(map(process_tweet, data_not_bullying))"
   ]
  },
  {
   "cell_type": "code",
   "execution_count": 54,
   "id": "28fa4045",
   "metadata": {},
   "outputs": [
    {
     "data": {
      "text/plain": [
       "5609"
      ]
     },
     "execution_count": 54,
     "metadata": {},
     "output_type": "execute_result"
    }
   ],
   "source": [
    "# exact number in vocab formed from corpus for bullying data \n",
    "total_vocab_bullying = set()\n",
    "for comment in process_bullying:\n",
    "    total_vocab_bullying.update(comment)\n",
    "len(total_vocab_bullying)"
   ]
  },
  {
   "cell_type": "code",
   "execution_count": 55,
   "id": "93a312bf",
   "metadata": {},
   "outputs": [
    {
     "data": {
      "text/plain": [
       "8488"
      ]
     },
     "execution_count": 55,
     "metadata": {},
     "output_type": "execute_result"
    }
   ],
   "source": [
    "# exact number in vocab formed from corpus for not bullying data \n",
    "total_vocab_NOT_bullying = set()\n",
    "for comment in process_not_bullying:\n",
    "    total_vocab_NOT_bullying.update(comment)\n",
    "len(total_vocab_NOT_bullying)"
   ]
  },
  {
   "cell_type": "markdown",
   "id": "96a7855c",
   "metadata": {},
   "source": [
    "### Most Common Words in Each Category"
   ]
  },
  {
   "cell_type": "code",
   "execution_count": 56,
   "id": "67166b91",
   "metadata": {},
   "outputs": [],
   "source": [
    "flat_bullying = [item for sublist in process_bullying for item in sublist]\n",
    "flat_not_bullying = [item for sublist in process_not_bullying for item in sublist]"
   ]
  },
  {
   "cell_type": "code",
   "execution_count": 57,
   "id": "30484e6e",
   "metadata": {},
   "outputs": [],
   "source": [
    "bullying_freq = FreqDist(flat_bullying)\n",
    "not_bullying_freq = FreqDist(flat_not_bullying)"
   ]
  },
  {
   "cell_type": "code",
   "execution_count": 58,
   "id": "1d016835",
   "metadata": {},
   "outputs": [
    {
     "data": {
      "text/plain": [
       "[('sexist', 966),\n",
       " ('women', 617),\n",
       " ('muslim', 588),\n",
       " ('islam', 576),\n",
       " ('girl', 399),\n",
       " ('al', 380),\n",
       " ('kat', 342),\n",
       " ('wil', 250),\n",
       " ('femal', 244),\n",
       " ('men', 241),\n",
       " ('cal', 221),\n",
       " ('murder', 219),\n",
       " ('peopl', 208),\n",
       " ('moham', 205),\n",
       " ('make', 191),\n",
       " ('woman', 182),\n",
       " ('god', 176),\n",
       " ('hate', 175),\n",
       " ('religion', 151),\n",
       " ('year', 145)]"
      ]
     },
     "execution_count": 58,
     "metadata": {},
     "output_type": "execute_result"
    }
   ],
   "source": [
    "# Top 20 Bullying Speech words:\n",
    "bullying_freq.most_common(20)"
   ]
  },
  {
   "cell_type": "code",
   "execution_count": 59,
   "id": "015698d6",
   "metadata": {},
   "outputs": [
    {
     "data": {
      "text/plain": [
       "[('kat', 604),\n",
       " ('wil', 587),\n",
       " ('al', 570),\n",
       " ('peopl', 470),\n",
       " ('andr', 376),\n",
       " ('make', 359),\n",
       " ('god', 349),\n",
       " ('time', 337),\n",
       " ('women', 333),\n",
       " ('fuck', 295),\n",
       " ('se', 278),\n",
       " ('reali', 268),\n",
       " ('thing', 259),\n",
       " ('islam', 246),\n",
       " ('lok', 239),\n",
       " ('ben', 229),\n",
       " ('ned', 224),\n",
       " ('isi', 213),\n",
       " ('talk', 200),\n",
       " ('love', 194)]"
      ]
     },
     "execution_count": 59,
     "metadata": {},
     "output_type": "execute_result"
    }
   ],
   "source": [
    "not_bullying_freq.most_common(20)"
   ]
  },
  {
   "cell_type": "markdown",
   "id": "64dbb8ff",
   "metadata": {},
   "source": [
    "### Normalizing Word Frequencies"
   ]
  },
  {
   "cell_type": "code",
   "execution_count": 60,
   "id": "55d65be9",
   "metadata": {},
   "outputs": [
    {
     "name": "stdout",
     "output_type": "stream",
     "text": [
      "Bullying Word \t Normalized Frequency\n",
      "\n",
      "sexist \t\t 0.02771\n",
      "women \t\t 0.0177\n",
      "muslim \t\t 0.01686\n",
      "islam \t\t 0.01652\n",
      "girl \t\t 0.01144\n",
      "al \t\t 0.0109\n",
      "kat \t\t 0.009809\n",
      "wil \t\t 0.00717\n",
      "femal \t\t 0.006998\n",
      "men \t\t 0.006912\n",
      "cal \t\t 0.006338\n",
      "murder \t\t 0.006281\n",
      "peopl \t\t 0.005966\n",
      "moham \t\t 0.005879\n",
      "make \t\t 0.005478\n",
      "woman \t\t 0.00522\n",
      "god \t\t 0.005048\n",
      "hate \t\t 0.005019\n",
      "religion \t\t 0.004331\n",
      "year \t\t 0.004159\n",
      "isi \t\t 0.003901\n",
      "prophet \t\t 0.003901\n",
      "quran \t\t 0.003843\n",
      "jew \t\t 0.003843\n",
      "feminist \t\t 0.003728\n"
     ]
    }
   ],
   "source": [
    "bullying_total_word_count = sum(bullying_freq.values())\n",
    "bullying_top_25 = bullying_freq.most_common(25)\n",
    "print(\"Bullying Word \\t Normalized Frequency\")\n",
    "print()\n",
    "for word in bullying_top_25:\n",
    "    normalized_frequency = word[1]/bullying_total_word_count\n",
    "    print(\"{} \\t\\t {:.4}\".format(word[0], normalized_frequency))"
   ]
  },
  {
   "cell_type": "code",
   "execution_count": 61,
   "id": "97ad2a0e",
   "metadata": {},
   "outputs": [
    {
     "name": "stdout",
     "output_type": "stream",
     "text": [
      "Not Bullying Word \t Normalized Frequency\n",
      "\n",
      "kat \t\t 0.01\n",
      "wil \t\t 0.009719\n",
      "al \t\t 0.009438\n",
      "peopl \t\t 0.007782\n",
      "andr \t\t 0.006226\n",
      "make \t\t 0.005944\n",
      "god \t\t 0.005779\n",
      "time \t\t 0.00558\n",
      "women \t\t 0.005514\n",
      "fuck \t\t 0.004884\n",
      "se \t\t 0.004603\n",
      "reali \t\t 0.004437\n",
      "thing \t\t 0.004288\n",
      "islam \t\t 0.004073\n",
      "lok \t\t 0.003957\n",
      "ben \t\t 0.003792\n",
      "ned \t\t 0.003709\n",
      "isi \t\t 0.003527\n",
      "talk \t\t 0.003311\n",
      "love \t\t 0.003212\n",
      "wel \t\t 0.003212\n",
      "show \t\t 0.003146\n",
      "andamp \t\t 0.003113\n",
      "back \t\t 0.002947\n",
      "stil \t\t 0.002881\n"
     ]
    }
   ],
   "source": [
    "not_bullying_total_word_count = sum(not_bullying_freq.values())\n",
    "not_bullying_top_25 = not_bullying_freq.most_common(25)\n",
    "print(\"Not Bullying Word \\t Normalized Frequency\")\n",
    "print()\n",
    "for word in not_bullying_top_25:\n",
    "    normalized_frequency = word[1]/not_bullying_total_word_count\n",
    "    print(\"{} \\t\\t {:.4}\".format(word[0], normalized_frequency))"
   ]
  },
  {
   "cell_type": "markdown",
   "id": "66a07385",
   "metadata": {},
   "source": [
    "### Visualizing Top Word Percentages"
   ]
  },
  {
   "cell_type": "code",
   "execution_count": 62,
   "id": "628e96a6",
   "metadata": {},
   "outputs": [],
   "source": [
    "# create counts of bullying and not bullying with values and words\n",
    "bullying_bar_counts = [x[1] for x in bullying_freq.most_common(20)]\n",
    "bullying_bar_words = [x[0] for x in bullying_freq.most_common(20)]\n",
    "\n",
    "not_bullying_bar_counts = [x[1] for x in not_bullying_freq.most_common(20)]\n",
    "not_bullying_bar_words = [x[0] for x in not_bullying_freq.most_common(20)]"
   ]
  },
  {
   "cell_type": "code",
   "execution_count": 63,
   "id": "6b504842",
   "metadata": {},
   "outputs": [],
   "source": [
    "# set the color of the bar graphs\n",
    "color = cm.magma(np.linspace(.4,.8, 30))"
   ]
  },
  {
   "cell_type": "code",
   "execution_count": 64,
   "id": "2c49f376",
   "metadata": {},
   "outputs": [
    {
     "data": {
      "image/png": "[encoded data removed]",
      "text/plain": [
       "<Figure size 1400x600 with 2 Axes>"
      ]
     },
     "metadata": {},
     "output_type": "display_data"
    }
   ],
   "source": [
    "new_figure = plt.figure(figsize=(14,6))\n",
    "\n",
    "ax = new_figure.add_subplot(121)\n",
    "ax.invert_yaxis()\n",
    "\n",
    "ax2 = new_figure.add_subplot(122)\n",
    "ax2.invert_yaxis()\n",
    "\n",
    "# generating a bar chart on each axes\n",
    "ax.barh(bullying_bar_words, bullying_bar_counts, color=color)\n",
    "ax2.barh(not_bullying_bar_words, not_bullying_bar_counts, color=color)\n",
    "\n",
    "ax.title.set_text('Bullying Tweets')\n",
    "ax2.title.set_text('Not Bullying Tweets')\n",
    "\n",
    "for ax in new_figure.axes:\n",
    "    plt.sca(ax)\n",
    "    plt.xticks(rotation=60, fontsize=14)\n",
    "    plt.xlabel(\"Word Count\")\n",
    "    plt.yticks(fontsize=14)\n",
    "plt.tight_layout(pad=2)\n",
    "\n",
    "new_figure.suptitle('Top 20 Most Frequent Words per Label', fontsize=16)\n",
    "plt.show()"
   ]
  },
  {
   "cell_type": "markdown",
   "id": "a4de0467",
   "metadata": {},
   "source": [
    "### What Words are Only in Bullying Tweets?"
   ]
  },
  {
   "cell_type": "code",
   "execution_count": 65,
   "id": "cc5c43ab",
   "metadata": {},
   "outputs": [],
   "source": [
    "def returnNotMatches(a, b):\n",
    "    return [x for x in a if x not in b]"
   ]
  },
  {
   "cell_type": "code",
   "execution_count": 66,
   "id": "dfaeba55",
   "metadata": {},
   "outputs": [
    {
     "data": {
      "text/plain": [
       "['roney',\n",
       " 'striker',\n",
       " 'geordi',\n",
       " 'shore',\n",
       " 'bute',\n",
       " 'idiosyncrasi',\n",
       " 'funili',\n",
       " 'iner',\n",
       " 'bogun',\n",
       " 'geographi',\n",
       " 'butno',\n",
       " 'comedien',\n",
       " 'rli',\n",
       " 'unfuni',\n",
       " 'guesit',\n",
       " 'rig',\n",
       " 'av',\n",
       " 'yesand',\n",
       " 'fanat',\n",
       " 'jenif',\n",
       " 'lopez',\n",
       " 'iliad',\n",
       " 'stupidist',\n",
       " 'patriot',\n",
       " 'wean',\n",
       " 'ture',\n",
       " 'foke',\n",
       " 'revis',\n",
       " 'thot',\n",
       " 'femshep',\n",
       " 'apeas',\n",
       " 'iowa',\n",
       " 'barf',\n",
       " 'erect',\n",
       " 'raper',\n",
       " 'wnba',\n",
       " 'parenthod',\n",
       " 'thatyou',\n",
       " 'katjia',\n",
       " 'uteru',\n",
       " 'abnorm',\n",
       " 'enrich',\n",
       " 'wisdom',\n",
       " 'walkyou',\n",
       " 'girlon',\n",
       " 'rap',\n",
       " 'supermodel',\n",
       " 'insecur',\n",
       " 'hockey',\n",
       " 'excitin',\n",
       " 'apathi',\n",
       " 'mistakenli',\n",
       " 'conflat',\n",
       " 'cuntyou',\n",
       " 'diseas',\n",
       " 'perish',\n",
       " 'thatfemin',\n",
       " 'argmnt',\n",
       " 'oversalt',\n",
       " 'cucumb',\n",
       " 'unprotect',\n",
       " 'ere',\n",
       " 'jobotherwis',\n",
       " 'sportsperso',\n",
       " 'imperialist',\n",
       " 'imperialist',\n",
       " 'coburn',\n",
       " 'hawk',\n",
       " 'mistaketok',\n",
       " 'timonen',\n",
       " 'hextal',\n",
       " 'seriouslyw',\n",
       " 'fakedumb',\n",
       " 'holypleas',\n",
       " 'holer',\n",
       " 'whilst',\n",
       " 'babe',\n",
       " 'anoyi',\n",
       " 'thigh',\n",
       " 'molest',\n",
       " 'noit',\n",
       " 'influenti',\n",
       " 'wom',\n",
       " 'scot',\n",
       " 'walker',\n",
       " 'menwomen',\n",
       " 'apologist',\n",
       " 'belaru',\n",
       " 'superiornot',\n",
       " 'macam',\n",
       " 'flab',\n",
       " 'autofil',\n",
       " 'denounc',\n",
       " 'denounc',\n",
       " 'revel',\n",
       " 'suspici',\n",
       " 'rougher',\n",
       " 'righ',\n",
       " 'hitin',\n",
       " 'campu',\n",
       " 'sandpap',\n",
       " 'katreali',\n",
       " 'mapsdata',\n",
       " 'advis',\n",
       " 'discoveri',\n",
       " 'hmthat',\n",
       " 'legali',\n",
       " 'butsur',\n",
       " 'miami',\n",
       " 'vice',\n",
       " 'comi',\n",
       " 'trucker',\n",
       " 'egotist',\n",
       " 'shelf',\n",
       " 'siri',\n",
       " 'undi',\n",
       " 'skank',\n",
       " 'bosom',\n",
       " 'flater',\n",
       " 'rehabilit',\n",
       " 'merchant',\n",
       " 'trawl',\n",
       " 'misguid',\n",
       " 'roten',\n",
       " 'insinu',\n",
       " 'graduat',\n",
       " 'phoni',\n",
       " 'drunken',\n",
       " 'fagot',\n",
       " 'stupidli',\n",
       " 'saidthat',\n",
       " 'vilen',\n",
       " 'shrunken',\n",
       " 'womeninterpret',\n",
       " 'handbag',\n",
       " 'theovercrowd',\n",
       " 'selfdeclar',\n",
       " 'ceasel',\n",
       " 'christina',\n",
       " 'hof',\n",
       " 'anecdot',\n",
       " 'expectantli',\n",
       " 'cue',\n",
       " 'lmfao',\n",
       " 'lmfao',\n",
       " 'ufc',\n",
       " 'reliev',\n",
       " 'catcher',\n",
       " 'qefuckind',\n",
       " 'comedien',\n",
       " 'singer',\n",
       " 'topnotch',\n",
       " 'comentari',\n",
       " 'singer',\n",
       " 'maron',\n",
       " 'gangrap',\n",
       " 'sympath',\n",
       " 'truce',\n",
       " 'blockad',\n",
       " 'beckl',\n",
       " 'choke',\n",
       " 'niw',\n",
       " 'himdu',\n",
       " 'plox',\n",
       " 'sabc',\n",
       " 'dumi',\n",
       " 'valenti',\n",
       " 'knowingli',\n",
       " 'genociad',\n",
       " 'undoubtedli',\n",
       " 'girlinspir',\n",
       " 'disavow',\n",
       " 'midleinform',\n",
       " 'benpobji',\n",
       " 'econtri',\n",
       " 'ford',\n",
       " 'phoni',\n",
       " 'divisiven',\n",
       " 'narcisist',\n",
       " 'grahib',\n",
       " 'blaspemi',\n",
       " 'subsequ',\n",
       " 'aspain',\n",
       " 'futhermor',\n",
       " 'theft',\n",
       " 'circumambul',\n",
       " 'growth',\n",
       " 'carenurturecodl',\n",
       " 'shno',\n",
       " 'naziphobia',\n",
       " 'kardashian',\n",
       " 'brainpow',\n",
       " 'degrad',\n",
       " 'remak',\n",
       " 'ghoul',\n",
       " 'slay',\n",
       " 'saviour',\n",
       " 'ploy',\n",
       " 'linesman',\n",
       " 'byu',\n",
       " 'remak',\n",
       " 'biz',\n",
       " 'odiou',\n",
       " 'ksa',\n",
       " 'numbingli',\n",
       " 'miday',\n",
       " 'superbowl',\n",
       " 'erin',\n",
       " 'ferari',\n",
       " 'legali',\n",
       " 'poultri',\n",
       " 'era',\n",
       " 'sworn',\n",
       " 'trader',\n",
       " 'sasyg',\n",
       " 'meslik',\n",
       " 'minu',\n",
       " 'unstabl',\n",
       " 'horsehigh',\n",
       " 'bulk',\n",
       " 'contrib',\n",
       " 'nofemin',\n",
       " 'ariana',\n",
       " 'kardashian',\n",
       " 'bimbolin',\n",
       " 'sasquatch',\n",
       " 'dug',\n",
       " 'darkn',\n",
       " 'nm',\n",
       " 'dalekdoctor',\n",
       " 'cathi',\n",
       " 'columbia',\n",
       " 'matr',\n",
       " 'superb',\n",
       " 'stupidgirl',\n",
       " 'dol',\n",
       " 'naiv',\n",
       " 'lesen',\n",
       " 'globali',\n",
       " 'doli',\n",
       " 'dictatorshiprusia',\n",
       " 'kleptocraci',\n",
       " 'hoti',\n",
       " 'thai',\n",
       " 'whatya',\n",
       " 'imit',\n",
       " 'snobi',\n",
       " 'poehler',\n",
       " 'tina',\n",
       " 'fey',\n",
       " 'kristen',\n",
       " 'wig',\n",
       " 'bobl',\n",
       " 'cuntstil',\n",
       " 'scout',\n",
       " 'sexistbut',\n",
       " 'sportscenterjust',\n",
       " 'glorifi',\n",
       " 'motherhod',\n",
       " 'skul',\n",
       " 'tomz',\n",
       " 'ankl',\n",
       " 'buti',\n",
       " 'blaze',\n",
       " 'trojan',\n",
       " 'feminazi',\n",
       " 'dr',\n",
       " 'unworthi',\n",
       " 'mjolnir',\n",
       " 'sheit',\n",
       " 'biurni',\n",
       " 'pegeuro',\n",
       " 'popin',\n",
       " 'pug',\n",
       " 'paedophil',\n",
       " 'trader',\n",
       " 'imperialist',\n",
       " 'expend',\n",
       " 'energi',\n",
       " 'muster',\n",
       " 'conflat',\n",
       " 'homelesn',\n",
       " 'rosiest',\n",
       " 'tact',\n",
       " 'plight',\n",
       " 'beaver',\n",
       " 'detest',\n",
       " 'whateverbut',\n",
       " 'vi',\n",
       " 'burp',\n",
       " 'sneze',\n",
       " 'somot',\n",
       " 'inhal',\n",
       " 'particl',\n",
       " 'feme',\n",
       " 'bolock',\n",
       " 'indign',\n",
       " 'asfac',\n",
       " 'critiquesh',\n",
       " 'sacr',\n",
       " 'sacr',\n",
       " 'debunk',\n",
       " 'msnbc',\n",
       " 'deper',\n",
       " 'saysdo',\n",
       " 'hororgam',\n",
       " 'righteou',\n",
       " 'tonightliterali',\n",
       " 'toth',\n",
       " 'poker',\n",
       " 'franci',\n",
       " 'pratl',\n",
       " 'extinguish',\n",
       " 'pinup',\n",
       " 'redux',\n",
       " 'cytheria',\n",
       " 'cockoh',\n",
       " 'scandinavian',\n",
       " 'forcefuli',\n",
       " 'rugbi',\n",
       " 'leach',\n",
       " 'ivf',\n",
       " 'distinct',\n",
       " 'perish',\n",
       " 'rapial',\n",
       " 'duh',\n",
       " 'theocrat',\n",
       " 'purfectli',\n",
       " 'sanctifi',\n",
       " 'wtfrack',\n",
       " 'heyhow',\n",
       " 'tenyoung',\n",
       " 'hari',\n",
       " 'poter',\n",
       " 'perci',\n",
       " 'jackson',\n",
       " 'sor',\n",
       " 'oversensit',\n",
       " 'kila',\n",
       " 'kila',\n",
       " 'dipwad',\n",
       " 'mandurah',\n",
       " 'skanki',\n",
       " 'cami',\n",
       " 'granato',\n",
       " 'oat',\n",
       " 'espn',\n",
       " 'trumpet',\n",
       " 'krazyey',\n",
       " 'fag',\n",
       " 'hanger',\n",
       " 'swindl',\n",
       " 'trilion',\n",
       " 'tu',\n",
       " 'choke',\n",
       " 'mona',\n",
       " 'ladiesunlik',\n",
       " 'hoker',\n",
       " 'barber',\n",
       " 'onemust',\n",
       " 'timeso',\n",
       " 'cavalri',\n",
       " 'sawuntil',\n",
       " 'mauri',\n",
       " 'socrat',\n",
       " 'unprovok',\n",
       " 'erin',\n",
       " 'kaka',\n",
       " 'viral',\n",
       " 'rivet',\n",
       " 'chicago',\n",
       " 'wnba',\n",
       " 'chicago',\n",
       " 'espn',\n",
       " 'na',\n",
       " 'ftrim',\n",
       " 'liarso',\n",
       " 'culinari',\n",
       " 'chipotl',\n",
       " 'geno',\n",
       " 'broach',\n",
       " 'incompat',\n",
       " 'undi',\n",
       " 'mgm',\n",
       " 'retd',\n",
       " 'fakeuntil',\n",
       " 'longno',\n",
       " 'poejust',\n",
       " 'fanat',\n",
       " 'plural',\n",
       " 'wmale',\n",
       " 'femalesc',\n",
       " 'netbal',\n",
       " 'incit',\n",
       " 'creatur',\n",
       " 'samexcept',\n",
       " 'corespond',\n",
       " 'tyran',\n",
       " 'snapchat',\n",
       " 'vawa',\n",
       " 'diferenti',\n",
       " 'recant',\n",
       " 'sthing',\n",
       " 'shed',\n",
       " 'israelhat',\n",
       " 'spray',\n",
       " 'hacksi',\n",
       " 'vilen',\n",
       " 'hari',\n",
       " 'mighth',\n",
       " 'nonbeliev',\n",
       " 'mckinon',\n",
       " 'asterisk',\n",
       " 'storytel',\n",
       " 'phoni',\n",
       " 'kidi',\n",
       " 'pleas',\n",
       " 'jackson',\n",
       " 'braindestroy',\n",
       " 'talkin',\n",
       " 'five',\n",
       " 'meantcan',\n",
       " 'ilegalon',\n",
       " 'nonmusl',\n",
       " 'pakistani',\n",
       " 'moistur',\n",
       " 'jofrey',\n",
       " 'jenif',\n",
       " 'lawrenc',\n",
       " 'mascara',\n",
       " 'hoe',\n",
       " 'girlin',\n",
       " 'druit',\n",
       " 'westpoint',\n",
       " 'inequ',\n",
       " 'prestigi',\n",
       " 'pleas',\n",
       " 'mufti',\n",
       " 'digust',\n",
       " 'driler',\n",
       " 'fifti',\n",
       " 'romant',\n",
       " 'bilionair',\n",
       " 'grifin',\n",
       " 'katstupiditybuli',\n",
       " 'aroundsh',\n",
       " 'songo',\n",
       " 'joshrob',\n",
       " 'buster',\n",
       " 'imperialist',\n",
       " 'yokel',\n",
       " 'trader',\n",
       " 'carpet',\n",
       " 'fowl',\n",
       " 'sjwish',\n",
       " 'spoton',\n",
       " 'tribun',\n",
       " 'narcisist',\n",
       " 'nihilist',\n",
       " 'bedrom',\n",
       " 'oasi',\n",
       " 'bikini',\n",
       " 'nipl',\n",
       " 'incit',\n",
       " 'diva',\n",
       " 'diva',\n",
       " 'ski',\n",
       " 'halfpip',\n",
       " 'carter',\n",
       " 'anamist',\n",
       " 'dishwash',\n",
       " 'height',\n",
       " 'jaguar',\n",
       " 'breder',\n",
       " 'raper',\n",
       " 'womenz',\n",
       " 'dey',\n",
       " 'opwes',\n",
       " 'agrav',\n",
       " 'tf',\n",
       " 'sicker',\n",
       " 'sufraget',\n",
       " 'xan',\n",
       " 'mehif',\n",
       " 'myer',\n",
       " 'armia',\n",
       " 'lemieux',\n",
       " 'aset',\n",
       " 'mac',\n",
       " 'gramer',\n",
       " 'profes',\n",
       " 'womanli',\n",
       " 'incit',\n",
       " 'masterbatk',\n",
       " 'beleiv',\n",
       " 'fastest',\n",
       " 'fastest',\n",
       " 'buti',\n",
       " 'mythic',\n",
       " 'creatur',\n",
       " 'dyke',\n",
       " 'unjok',\n",
       " 'preach',\n",
       " 'paedophilia',\n",
       " 'spat',\n",
       " 'berlin',\n",
       " 'criticis',\n",
       " 'kn',\n",
       " 'sesh',\n",
       " 'opon',\n",
       " 'buti',\n",
       " 'rhwanda',\n",
       " 'ghana',\n",
       " 'avg',\n",
       " 'avg',\n",
       " 'cs',\n",
       " 'incent',\n",
       " 'paedophilia',\n",
       " 'discoveri',\n",
       " 'openli',\n",
       " 'softon',\n",
       " 'subscrib',\n",
       " 'butwomen',\n",
       " 'wateri',\n",
       " 'curvi',\n",
       " 'fap',\n",
       " 'curvi',\n",
       " 'fap',\n",
       " 'barbarian',\n",
       " 'disconect',\n",
       " 'burak',\n",
       " 'lunchtim',\n",
       " 'tendenc',\n",
       " 'impract',\n",
       " 'sociopolit',\n",
       " 'unbelievanli',\n",
       " 'fusi',\n",
       " 'ofsid',\n",
       " 'ukip',\n",
       " 'bengal',\n",
       " 'conqu',\n",
       " 'healthlok',\n",
       " 'physiqu',\n",
       " 'erect',\n",
       " 'belitl',\n",
       " 'dipwad',\n",
       " 'smeli',\n",
       " 'britian',\n",
       " 'naziphobia',\n",
       " 'preach',\n",
       " 'galoway',\n",
       " 'regu',\n",
       " 'almuslim',\n",
       " 'firsthav',\n",
       " 'soi',\n",
       " 'egalitarian',\n",
       " 'angst',\n",
       " 'hoe',\n",
       " 'hu',\n",
       " 'cokyal',\n",
       " 'blomenth',\n",
       " 'persian',\n",
       " 'pade',\n",
       " 'awkwardli',\n",
       " 'popet',\n",
       " 'shuld',\n",
       " 'familiaris',\n",
       " 'whut',\n",
       " 'bark',\n",
       " 'knele',\n",
       " 'bedrom',\n",
       " 'univ',\n",
       " 'herevid',\n",
       " 'swamp',\n",
       " 'unrel',\n",
       " 'highland',\n",
       " 'fletch',\n",
       " 'kufar',\n",
       " 'peyton',\n",
       " 'mane',\n",
       " 'peyton',\n",
       " 'scew',\n",
       " 'introspect',\n",
       " 'palin',\n",
       " 'pati',\n",
       " 'remtard',\n",
       " 'sexistim',\n",
       " 'selfentitl',\n",
       " 'pedophelia',\n",
       " 'pedo',\n",
       " 'realisticali',\n",
       " 'hmposibl',\n",
       " 'donald',\n",
       " 'diva',\n",
       " 'rash',\n",
       " 'deadset',\n",
       " 'thundercunt',\n",
       " 'rash',\n",
       " 'cau',\n",
       " 'amarah',\n",
       " 'shep',\n",
       " 'yayakolo',\n",
       " 'tour',\n",
       " 'cornerston',\n",
       " 'hockey',\n",
       " 'shujaiya',\n",
       " 'deconstrauct',\n",
       " 'mowhor',\n",
       " 'muslimssinc',\n",
       " 'ownerit',\n",
       " 'grip',\n",
       " 'wholi',\n",
       " 'comprehend',\n",
       " 'toyfil',\n",
       " 'otoman',\n",
       " 'furthermoreyour',\n",
       " 'pedo',\n",
       " 'childrenso',\n",
       " 'bur',\n",
       " 'shadi',\n",
       " 'shadi',\n",
       " 'tatchel',\n",
       " 'sanitari',\n",
       " 'towel',\n",
       " 'skanki',\n",
       " 'hoe',\n",
       " 'certifi',\n",
       " 'inmat',\n",
       " 'islamasylum',\n",
       " 'rugbi',\n",
       " 'folowy',\n",
       " 'trolingy',\n",
       " 'tohav',\n",
       " 'wam',\n",
       " 'janet',\n",
       " 'twone',\n",
       " 'nonrefund',\n",
       " 'pimp',\n",
       " 'plunder',\n",
       " 'zoastrian',\n",
       " 'persia',\n",
       " 'preach',\n",
       " 'degrasi',\n",
       " 'knicker',\n",
       " 'clearer',\n",
       " 'paralymp',\n",
       " 'ohlik',\n",
       " 'btwpunch',\n",
       " 'disentand',\n",
       " 'factsand',\n",
       " 'sader',\n",
       " 'saden',\n",
       " 'towel',\n",
       " 'buti',\n",
       " 'rube',\n",
       " 'shortli',\n",
       " 'ezidiz',\n",
       " 'sandwichbut',\n",
       " 'spagheti',\n",
       " 'dem',\n",
       " 'otoman',\n",
       " 'enderun',\n",
       " 'nonmuslim',\n",
       " 'casuali',\n",
       " 'discrib',\n",
       " 'murderbigotri',\n",
       " 'skeptic',\n",
       " 'broad',\n",
       " 'islamofascim',\n",
       " 'whitewash',\n",
       " 'sack',\n",
       " 'eras',\n",
       " 'comi',\n",
       " 'imperialist',\n",
       " 'conquer',\n",
       " 'atlant',\n",
       " 'thinkprogr',\n",
       " 'refut',\n",
       " 'titwang',\n",
       " 'wnba',\n",
       " 'mfing',\n",
       " 'subway',\n",
       " 'tradesmen',\n",
       " 'ide',\n",
       " 'outdat',\n",
       " 'swedish',\n",
       " 'lawmak',\n",
       " 'lofti',\n",
       " 'testimoni',\n",
       " 'receptionist',\n",
       " 'friendlyfemal',\n",
       " 'exhibit',\n",
       " 'vz',\n",
       " 'dishonest',\n",
       " 'untreat',\n",
       " 'patient',\n",
       " 'mrm',\n",
       " 'todl',\n",
       " 'theresa',\n",
       " 'wealth',\n",
       " 'hatefil',\n",
       " 'imers',\n",
       " 'kufiri',\n",
       " 'promoskank',\n",
       " 'beavi',\n",
       " 'wnba',\n",
       " 'wnba',\n",
       " 'cent',\n",
       " 'slaverscaravan',\n",
       " 'roten',\n",
       " 'sidelin',\n",
       " 'fajr',\n",
       " 'pawn',\n",
       " 'drumer',\n",
       " 'whilst',\n",
       " 'nasali',\n",
       " 'incit',\n",
       " 'thatfem',\n",
       " 'armpit',\n",
       " 'dori',\n",
       " 'burk',\n",
       " 'persuas',\n",
       " 'wearhous',\n",
       " 'pleasant',\n",
       " 'jock',\n",
       " 'macro',\n",
       " 'butalk',\n",
       " 'conceiv',\n",
       " 'thigh',\n",
       " 'hapili',\n",
       " 'flight',\n",
       " 'pervers',\n",
       " 'guantanamo',\n",
       " 'gueswhat',\n",
       " 'subjug',\n",
       " 'opon',\n",
       " 'vio',\n",
       " 'blodthirsti',\n",
       " 'flock',\n",
       " 'theatr',\n",
       " 'testerosteron',\n",
       " 'aparthid',\n",
       " 'wnba',\n",
       " 'nonansw',\n",
       " 'canti',\n",
       " 'visuali',\n",
       " 'phoni',\n",
       " 'surnam',\n",
       " 'regr',\n",
       " 'becom',\n",
       " 'foti',\n",
       " 'pimp',\n",
       " 'jim',\n",
       " 'beam',\n",
       " 'foti',\n",
       " 'inscrib',\n",
       " 'thingopen',\n",
       " 'silverman',\n",
       " 'phoni',\n",
       " 'schumer',\n",
       " 'chemali',\n",
       " 'twit',\n",
       " 'alwhat',\n",
       " 'newsworthi',\n",
       " 'nil',\n",
       " 'ofthecuf',\n",
       " 'clai',\n",
       " 'wnba',\n",
       " 'hath',\n",
       " 'dadi',\n",
       " 'yrold',\n",
       " 'yrold',\n",
       " 'frezer',\n",
       " 'skank',\n",
       " 'trait',\n",
       " 'divisiven',\n",
       " 'dough',\n",
       " 'harden',\n",
       " 'rasin',\n",
       " 'remak',\n",
       " 'biterswet',\n",
       " 'nascar',\n",
       " 'vocalist',\n",
       " 'era',\n",
       " 'mu',\n",
       " 'conquer',\n",
       " 'pakistani',\n",
       " 'roti',\n",
       " 'timesy',\n",
       " 'malessocieti',\n",
       " 'cue',\n",
       " 'gegi',\n",
       " 'tah',\n",
       " 'ftr',\n",
       " 'downstair',\n",
       " 'comet',\n",
       " 'biden',\n",
       " 'behaviorthat',\n",
       " 'spike',\n",
       " 'patriarc',\n",
       " 'girlishn',\n",
       " 'choke',\n",
       " 'hockey',\n",
       " 'nosebl',\n",
       " 'himat',\n",
       " 'naziphobia',\n",
       " 'para',\n",
       " 'nev',\n",
       " 'nypd',\n",
       " 'benevol',\n",
       " 'masterfuli',\n",
       " 'trader',\n",
       " 'acomod',\n",
       " 'hairi',\n",
       " 'certainti',\n",
       " 'havent',\n",
       " 'daeshbag',\n",
       " 'src',\n",
       " 'aint',\n",
       " 'gayspractic',\n",
       " 'kilingmurd',\n",
       " 'spatula',\n",
       " 'acou',\n",
       " 'stevi',\n",
       " 'vike',\n",
       " 'wnba',\n",
       " 'fagot',\n",
       " 'badbut',\n",
       " 'fn',\n",
       " 'argumentsjust',\n",
       " 'katherin',\n",
       " 'feicin',\n",
       " 'reflex',\n",
       " 'vice',\n",
       " 'versa',\n",
       " 'smarter',\n",
       " 'gym',\n",
       " 'spoter',\n",
       " 'ucla',\n",
       " 'ironicali',\n",
       " 'paybut',\n",
       " 'cathi',\n",
       " 'bcu',\n",
       " 'analyst',\n",
       " 'hardidk',\n",
       " 'carpark',\n",
       " 'dentist',\n",
       " 'whiten',\n",
       " 'gel',\n",
       " 'greasi',\n",
       " 'hatemi',\n",
       " 'eversori',\n",
       " 'wifey',\n",
       " 'witchcraft',\n",
       " 'erin',\n",
       " 'faint',\n",
       " 'jofrey',\n",
       " 'werent',\n",
       " 'irk',\n",
       " 'cespol',\n",
       " 'jungl',\n",
       " 'prostitut',\n",
       " 'lure',\n",
       " 'pint',\n",
       " 'notit',\n",
       " 'repr',\n",
       " 'emotionali',\n",
       " 'katstupidviciousagresivedisrespectfuldishonestshameleslack',\n",
       " 'skilspleas',\n",
       " 'soi',\n",
       " 'fasten',\n",
       " 'seatbelt',\n",
       " 'gulibl',\n",
       " 'tarnish',\n",
       " 'stories',\n",
       " 'replacin',\n",
       " 'savant',\n",
       " 'mortal',\n",
       " 'kombat',\n",
       " 'maid',\n",
       " 'skank',\n",
       " 'dubiou',\n",
       " 'spontan',\n",
       " 'wrongsexist',\n",
       " 'rap',\n",
       " 'br',\n",
       " 'reprehens',\n",
       " 'blondesmperhap',\n",
       " 'adequaci',\n",
       " 'notch',\n",
       " 'earnest',\n",
       " 'bucoki',\n",
       " 'sed',\n",
       " 'thrift',\n",
       " 'badr',\n",
       " 'jesica',\n",
       " 'valenti',\n",
       " 'objectif',\n",
       " 'hamer',\n",
       " 'wteror',\n",
       " 'anamist',\n",
       " 'slag',\n",
       " 'lamest',\n",
       " 'spearhead',\n",
       " 'vegetarian',\n",
       " 'extent',\n",
       " 'extent',\n",
       " 'raper',\n",
       " 'murderbigotri',\n",
       " 'overinfl',\n",
       " 'ursa',\n",
       " 'bukhari',\n",
       " 'fifa',\n",
       " 'singer',\n",
       " 'laureat',\n",
       " 'animist',\n",
       " 'cruel',\n",
       " 'homebodi',\n",
       " 'housew',\n",
       " 'sportscent',\n",
       " 'baseb',\n",
       " 'campu',\n",
       " 'vocalist',\n",
       " 'haley',\n",
       " 'paramor',\n",
       " 'skul',\n",
       " 'tomz',\n",
       " 'aber',\n",
       " 'priorit',\n",
       " 'islamfornia',\n",
       " 'sportscent',\n",
       " 'straw',\n",
       " 'dunc',\n",
       " 'hypothet',\n",
       " 'gah',\n",
       " 'obedi',\n",
       " 'blasphem',\n",
       " 'mohom',\n",
       " 'fucktard',\n",
       " 'snifer',\n",
       " 'agit',\n",
       " 'bjp',\n",
       " 'rivet',\n",
       " 'outlandish',\n",
       " 'stab',\n",
       " 'roten',\n",
       " 'whera',\n",
       " 'lampan',\n",
       " 'shumer',\n",
       " 'watchin',\n",
       " 'bachelor',\n",
       " 'natchampionship',\n",
       " 'rugbi',\n",
       " 'sadn',\n",
       " 'uncivil',\n",
       " 'relig',\n",
       " 'nun',\n",
       " 'hoe',\n",
       " 'iam',\n",
       " 'imperialist',\n",
       " 'nonmuslim',\n",
       " 'headnobodi',\n",
       " 'el',\n",
       " 'lokbecaus',\n",
       " 'housew',\n",
       " 'hoe',\n",
       " 'bestfriend',\n",
       " 'extentw',\n",
       " 'optionschoic',\n",
       " 'pleas',\n",
       " 'opon',\n",
       " 'vom',\n",
       " 'kuwait',\n",
       " 'clit',\n",
       " 'brothel',\n",
       " 'baloney',\n",
       " 'criticis',\n",
       " 'overtim',\n",
       " 'stanley',\n",
       " 'dvr',\n",
       " 'themlot',\n",
       " 'hay',\n",
       " 'ure',\n",
       " 'butlov',\n",
       " 'invalid',\n",
       " 'islamnot',\n",
       " 'pmsing',\n",
       " 'foregon',\n",
       " 'actoractr',\n",
       " 'wnbai',\n",
       " 'conclud',\n",
       " 'lynch',\n",
       " 'minger',\n",
       " 'nedtwit',\n",
       " 'blondestwit',\n",
       " 'chevaldayof',\n",
       " 'weightwhat',\n",
       " 'wealth',\n",
       " 'celebratori',\n",
       " 'trader',\n",
       " ...]"
      ]
     },
     "execution_count": 66,
     "metadata": {},
     "output_type": "execute_result"
    }
   ],
   "source": [
    "returnNotMatches(flat_bullying, flat_not_bullying)"
   ]
  },
  {
   "cell_type": "markdown",
   "id": "9abf6a81",
   "metadata": {},
   "source": [
    "### Visualizing Unique Words with Venn Diagram"
   ]
  },
  {
   "cell_type": "code",
   "execution_count": 67,
   "id": "bae997e0",
   "metadata": {},
   "outputs": [
    {
     "name": "stdout",
     "output_type": "stream",
     "text": [
      "Requirement already satisfied: matplotlib_venn in c:\\users\\admin\\anaconda3\\lib\\site-packages (0.11.9)\n",
      "Requirement already satisfied: matplotlib in c:\\users\\admin\\anaconda3\\lib\\site-packages (from matplotlib_venn) (3.5.2)\n",
      "Requirement already satisfied: numpy in c:\\users\\admin\\anaconda3\\lib\\site-packages (from matplotlib_venn) (1.21.5)\n",
      "Requirement already satisfied: scipy in c:\\users\\admin\\anaconda3\\lib\\site-packages (from matplotlib_venn) (1.9.1)\n",
      "Requirement already satisfied: packaging>=20.0 in c:\\users\\admin\\anaconda3\\lib\\site-packages (from matplotlib->matplotlib_venn) (21.3)\n",
      "Requirement already satisfied: cycler>=0.10 in c:\\users\\admin\\anaconda3\\lib\\site-packages (from matplotlib->matplotlib_venn) (0.11.0)\n",
      "Requirement already satisfied: pillow>=6.2.0 in c:\\users\\admin\\anaconda3\\lib\\site-packages (from matplotlib->matplotlib_venn) (9.2.0)\n",
      "Requirement already satisfied: python-dateutil>=2.7 in c:\\users\\admin\\anaconda3\\lib\\site-packages (from matplotlib->matplotlib_venn) (2.8.2)\n",
      "Requirement already satisfied: kiwisolver>=1.0.1 in c:\\users\\admin\\anaconda3\\lib\\site-packages (from matplotlib->matplotlib_venn) (1.4.2)\n",
      "Requirement already satisfied: fonttools>=4.22.0 in c:\\users\\admin\\anaconda3\\lib\\site-packages (from matplotlib->matplotlib_venn) (4.25.0)\n",
      "Requirement already satisfied: pyparsing>=2.2.1 in c:\\users\\admin\\anaconda3\\lib\\site-packages (from matplotlib->matplotlib_venn) (3.0.9)\n",
      "Requirement already satisfied: six>=1.5 in c:\\users\\admin\\anaconda3\\lib\\site-packages (from python-dateutil>=2.7->matplotlib->matplotlib_venn) (1.16.0)\n"
     ]
    }
   ],
   "source": [
    "!pip install matplotlib_venn\n",
    "import matplotlib_venn as venn\n",
    "from matplotlib_venn import venn2, venn2_circles, venn3, venn3_circles\n",
    "import matplotlib.pyplot as plt"
   ]
  },
  {
   "cell_type": "code",
   "execution_count": 68,
   "id": "c49c872c",
   "metadata": {},
   "outputs": [
    {
     "data": {
      "text/plain": [
       "Text(0.5, 1.0, 'Comparison of Unique Words in Each Corpus Label')"
      ]
     },
     "execution_count": 68,
     "metadata": {},
     "output_type": "execute_result"
    },
    {
     "data": {
      "image/png": "[encoded data removed]",
      "text/plain": [
       "<Figure size 640x480 with 1 Axes>"
      ]
     },
     "metadata": {},
     "output_type": "display_data"
    }
   ],
   "source": [
    "venn2([set(flat_bullying), set(flat_not_bullying)], set_labels = ('Bullying Tweets', 'Not Bullying Tweets'))\n",
    "plt.title('Comparison of Unique Words in Each Corpus Label')"
   ]
  },
  {
   "cell_type": "markdown",
   "id": "95debda9",
   "metadata": {},
   "source": [
    "### Word Clouds"
   ]
  },
  {
   "cell_type": "code",
   "execution_count": 69,
   "id": "49edaa1c",
   "metadata": {},
   "outputs": [],
   "source": [
    "from wordcloud import WordCloud\n",
    "bullying_dict = dict(zip(bullying_bar_words, bullying_bar_counts))\n",
    "not_bullying_dict = dict(zip(not_bullying_bar_words, not_bullying_bar_counts))"
   ]
  },
  {
   "cell_type": "code",
   "execution_count": 70,
   "id": "0b32c007",
   "metadata": {},
   "outputs": [
    {
     "data": {
      "image/png": "[encoded data removed]",
      "text/plain": [
       "<Figure size 600x600 with 1 Axes>"
      ]
     },
     "metadata": {},
     "output_type": "display_data"
    }
   ],
   "source": [
    "# create the word cloud:\n",
    "wordcloud = WordCloud(colormap='Spectral').generate_from_frequencies(bullying_dict)\n",
    "\n",
    "# Display the generated image w/ matplotlib:\n",
    "plt.figure(figsize=(6,6), facecolor='k')\n",
    "plt.imshow(wordcloud, interpolation='bilinear')\n",
    "plt.axis(\"off\")\n",
    "plt.tight_layout(pad=0)\n",
    "\n",
    "plt.show()"
   ]
  },
  {
   "cell_type": "code",
   "execution_count": 71,
   "id": "ba7ddf9f",
   "metadata": {},
   "outputs": [
    {
     "data": {
      "image/png": "[encoded data removed]",
      "text/plain": [
       "<Figure size 600x600 with 1 Axes>"
      ]
     },
     "metadata": {},
     "output_type": "display_data"
    }
   ],
   "source": [
    "wordcloud = WordCloud(colormap='Spectral').generate_from_frequencies(not_bullying_dict)\n",
    "\n",
    "plt.figure(figsize=(6,6), facecolor='k')\n",
    "plt.imshow(wordcloud, interpolation='bilinear')\n",
    "plt.axis(\"off\")\n",
    "plt.tight_layout(pad=0)\n",
    "plt.show()"
   ]
  },
  {
   "cell_type": "markdown",
   "id": "44fb6fcb",
   "metadata": {},
   "source": [
    "These word clouds are pretty much unusable on public-facing documents, but they tell us that the top words for each label are very similar. It may be hard for the models to differentiate beteween what can be classified as bullying or not"
   ]
  },
  {
   "cell_type": "markdown",
   "id": "3705ff21",
   "metadata": {},
   "source": [
    "### Tweet Cloud of Most Frequent Words in Corpus"
   ]
  },
  {
   "cell_type": "code",
   "execution_count": 72,
   "id": "4141e789",
   "metadata": {},
   "outputs": [],
   "source": [
    "tweet_df = clean_df[['clean_tweets', 'oh_label']].copy()"
   ]
  },
  {
   "cell_type": "code",
   "execution_count": 73,
   "id": "9912764d",
   "metadata": {},
   "outputs": [],
   "source": [
    "tweet_df.to_csv('corpus.txt', sep='|')"
   ]
  },
  {
   "cell_type": "code",
   "execution_count": 74,
   "id": "1424011e",
   "metadata": {},
   "outputs": [
    {
     "name": "stdout",
     "output_type": "stream",
     "text": [
      "Requirement already satisfied: stylecloud in c:\\users\\admin\\anaconda3\\lib\\site-packages (0.5.2)\n",
      "Requirement already satisfied: palettable in c:\\users\\admin\\anaconda3\\lib\\site-packages (from stylecloud) (3.3.3)\n",
      "Requirement already satisfied: wordcloud in c:\\users\\admin\\anaconda3\\lib\\site-packages (from stylecloud) (1.9.1.1)\n",
      "Requirement already satisfied: fire in c:\\users\\admin\\anaconda3\\lib\\site-packages (from stylecloud) (0.5.0)\n",
      "Requirement already satisfied: matplotlib in c:\\users\\admin\\anaconda3\\lib\\site-packages (from stylecloud) (3.5.2)\n",
      "Requirement already satisfied: icon-font-to-png in c:\\users\\admin\\anaconda3\\lib\\site-packages (from stylecloud) (0.4.1)\n",
      "Requirement already satisfied: termcolor in c:\\users\\admin\\anaconda3\\lib\\site-packages (from fire->stylecloud) (2.3.0)\n",
      "Requirement already satisfied: six in c:\\users\\admin\\anaconda3\\lib\\site-packages (from fire->stylecloud) (1.16.0)\n",
      "Requirement already satisfied: Pillow>=4.0.0 in c:\\users\\admin\\anaconda3\\lib\\site-packages (from icon-font-to-png->stylecloud) (9.2.0)\n",
      "Requirement already satisfied: requests>=2.12.5 in c:\\users\\admin\\anaconda3\\lib\\site-packages (from icon-font-to-png->stylecloud) (2.28.1)\n",
      "Requirement already satisfied: tinycss>=0.4 in c:\\users\\admin\\anaconda3\\lib\\site-packages (from icon-font-to-png->stylecloud) (0.4)\n",
      "Requirement already satisfied: cycler>=0.10 in c:\\users\\admin\\anaconda3\\lib\\site-packages (from matplotlib->stylecloud) (0.11.0)\n",
      "Requirement already satisfied: fonttools>=4.22.0 in c:\\users\\admin\\anaconda3\\lib\\site-packages (from matplotlib->stylecloud) (4.25.0)\n",
      "Requirement already satisfied: pyparsing>=2.2.1 in c:\\users\\admin\\anaconda3\\lib\\site-packages (from matplotlib->stylecloud) (3.0.9)\n",
      "Requirement already satisfied: kiwisolver>=1.0.1 in c:\\users\\admin\\anaconda3\\lib\\site-packages (from matplotlib->stylecloud) (1.4.2)\n",
      "Requirement already satisfied: numpy>=1.17 in c:\\users\\admin\\anaconda3\\lib\\site-packages (from matplotlib->stylecloud) (1.21.5)\n",
      "Requirement already satisfied: python-dateutil>=2.7 in c:\\users\\admin\\anaconda3\\lib\\site-packages (from matplotlib->stylecloud) (2.8.2)\n",
      "Requirement already satisfied: packaging>=20.0 in c:\\users\\admin\\anaconda3\\lib\\site-packages (from matplotlib->stylecloud) (21.3)\n",
      "Requirement already satisfied: charset-normalizer<3,>=2 in c:\\users\\admin\\anaconda3\\lib\\site-packages (from requests>=2.12.5->icon-font-to-png->stylecloud) (2.0.4)\n",
      "Requirement already satisfied: urllib3<1.27,>=1.21.1 in c:\\users\\admin\\anaconda3\\lib\\site-packages (from requests>=2.12.5->icon-font-to-png->stylecloud) (1.26.11)\n",
      "Requirement already satisfied: idna<4,>=2.5 in c:\\users\\admin\\anaconda3\\lib\\site-packages (from requests>=2.12.5->icon-font-to-png->stylecloud) (3.3)\n",
      "Requirement already satisfied: certifi>=2017.4.17 in c:\\users\\admin\\anaconda3\\lib\\site-packages (from requests>=2.12.5->icon-font-to-png->stylecloud) (2022.9.14)\n"
     ]
    }
   ],
   "source": [
    "!pip install stylecloud\n",
    "import stylecloud\n",
    "stylecloud.gen_stylecloud(file_path='corpus.txt', icon_name='fab fa-twitter')"
   ]
  },
  {
   "cell_type": "markdown",
   "id": "b86b6b92",
   "metadata": {},
   "source": [
    "### EDA on Annotation Column\n",
    "We can see majority belongs to none ,but few percentage adds to racism and sexist categories which we are mainly intested in."
   ]
  },
  {
   "cell_type": "code",
   "execution_count": 75,
   "id": "31be8ba6",
   "metadata": {},
   "outputs": [
    {
     "data": {
      "text/plain": [
       "<AxesSubplot:>"
      ]
     },
     "execution_count": 75,
     "metadata": {},
     "output_type": "execute_result"
    },
    {
     "data": {
      "image/png": "[encoded data removed]",
      "text/plain": [
       "<Figure size 640x480 with 1 Axes>"
      ]
     },
     "metadata": {},
     "output_type": "display_data"
    }
   ],
   "source": [
    "clean_df.Annotation.hist()"
   ]
  },
  {
   "cell_type": "markdown",
   "id": "50982d49",
   "metadata": {},
   "source": [
    "## Splitting the data into Train - Test "
   ]
  },
  {
   "cell_type": "code",
   "execution_count": 76,
   "id": "9635e02f",
   "metadata": {},
   "outputs": [],
   "source": [
    "X_train, X_test, y_train, y_test = train_test_split(X_lem, y_lem, test_size=0.20, random_state=15)"
   ]
  },
  {
   "cell_type": "code",
   "execution_count": 77,
   "id": "5a617bd9",
   "metadata": {},
   "outputs": [],
   "source": [
    "# instantiating tf_idf vectorizer\n",
    "tfidf = TfidfVectorizer(stop_words= stop_words, ngram_range=(1,2))"
   ]
  },
  {
   "cell_type": "code",
   "execution_count": 78,
   "id": "f51788b7",
   "metadata": {},
   "outputs": [],
   "source": [
    "# transforming tokenized data into sparse matrix format with 20K stored elements\n",
    "X_train_tfidf = tfidf.fit_transform(X_train)\n",
    "X_test_tfidf = tfidf.transform(X_test)"
   ]
  },
  {
   "cell_type": "code",
   "execution_count": 79,
   "id": "43bdf6b2",
   "metadata": {},
   "outputs": [
    {
     "name": "stdout",
     "output_type": "stream",
     "text": [
      "Average Number of Non-Zero Elements in Vectorized Articles: 10.900626536600841\n",
      "Percentage of columns containing ZERO: 0.9998205983025855\n"
     ]
    }
   ],
   "source": [
    "# taking a quick look at the non zero elements\n",
    "non_zero_cols = X_train_tfidf.nnz / float(X_train_tfidf.shape[0])\n",
    "print(\"Average Number of Non-Zero Elements in Vectorized Articles: {}\".format(non_zero_cols))\n",
    "percent_sparse = 1 - (non_zero_cols / float(X_train_tfidf.shape[1]))\n",
    "print('Percentage of columns containing ZERO: {}'.format(percent_sparse))"
   ]
  },
  {
   "cell_type": "code",
   "execution_count": 80,
   "id": "8253a31f",
   "metadata": {},
   "outputs": [],
   "source": [
    "rf_baseline = RandomForestClassifier(n_estimators=100, class_weight='balanced', random_state=0)"
   ]
  },
  {
   "cell_type": "code",
   "execution_count": 81,
   "id": "76952e9e",
   "metadata": {},
   "outputs": [
    {
     "name": "stdout",
     "output_type": "stream",
     "text": [
      "Wall time: 51.1 s\n"
     ]
    }
   ],
   "source": [
    "%%time\n",
    "rf_baseline.fit(X_train_tfidf, y_train)\n",
    "rf_test_preds = rf_baseline.predict(X_test_tfidf)"
   ]
  },
  {
   "cell_type": "code",
   "execution_count": 82,
   "id": "801a5d9a",
   "metadata": {},
   "outputs": [
    {
     "name": "stdout",
     "output_type": "stream",
     "text": [
      "Testing Set Evaluation Metrics:\n",
      "Precision: 0.7725\n",
      "Recall: 0.6065\n",
      "F1 Score: 0.6795\n",
      "Weighted F1 Score: 0.8034\n"
     ]
    }
   ],
   "source": [
    "# custom fuctions\n",
    "import helper_functions as helpers\n",
    "rf_precision = precision_score(y_test, rf_test_preds)\n",
    "rf_recall = recall_score(y_test, rf_test_preds)\n",
    "rf_f1_score = f1_score(y_test, rf_test_preds)\n",
    "rf_f1_weighted = f1_score(y_test, rf_test_preds, average='weighted')\n",
    "\n",
    "# printing scores\n",
    "helpers.evaluation(rf_precision, rf_recall, rf_f1_score, rf_f1_weighted)"
   ]
  },
  {
   "cell_type": "code",
   "execution_count": 83,
   "id": "8429156a",
   "metadata": {},
   "outputs": [
    {
     "name": "stdout",
     "output_type": "stream",
     "text": [
      "Wall time: 10min 24s\n"
     ]
    }
   ],
   "source": [
    "%%time\n",
    "# training f1\n",
    "from sklearn.model_selection import cross_val_score, GridSearchCV\n",
    "rf_f1_cv = cross_val_score(rf_baseline, X_train_tfidf, y_train, scoring='f1', cv=5)\n",
    "rf_mean_cv = round(rf_f1_cv.mean(), 6)"
   ]
  },
  {
   "cell_type": "code",
   "execution_count": 84,
   "id": "8f55d68d",
   "metadata": {},
   "outputs": [
    {
     "data": {
      "text/plain": [
       "'underfit'"
      ]
     },
     "execution_count": 84,
     "metadata": {},
     "output_type": "execute_result"
    }
   ],
   "source": [
    "# Checking if the model is overfit or underfit?\n",
    "rf_fit = helpers.model_fit(rf_mean_cv, rf_f1_score)\n",
    "rf_fit\n"
   ]
  },
  {
   "cell_type": "markdown",
   "id": "a91bcdad",
   "metadata": {},
   "source": [
    "### Overfit vs. Underfit\n",
    "\n",
    "Above, I used a custom function to streamline the categorization process. For instance, when a model's training metrics are higher than its testing metrics, then it is overfit.\n",
    "\n",
    "Generally, a slightly underfit model is preferred. This means that the model is not too specific to the training data, and it should be able to generalize well on unseen data.\n",
    "\n",
    "We can continue to run this custom fuction on future iterations to determine each model's fit. We can also store all the testing set evaluation metrics for each model into a dictionary, and display them in a dataframe later for comparison."
   ]
  },
  {
   "cell_type": "code",
   "execution_count": 85,
   "id": "1bd06550",
   "metadata": {},
   "outputs": [],
   "source": [
    "# creating dictionary to store all metrics\n",
    "metric_dict = {}\n",
    "# adding scores to metric_dict\n",
    "metric_dict['Baseline Random Forest - TFIDF'] = {'precision': rf_precision, 'recall': rf_recall, 'f1_score': rf_f1_score, 'weighted_f1': rf_f1_weighted, 'fit': rf_fit}"
   ]
  },
  {
   "cell_type": "markdown",
   "id": "96cee405",
   "metadata": {},
   "source": [
    "### Baseline Logistic Regression\n",
    "Logistic Regression is another common model used for classification tasks. Additionally, this model tends to work better with larger datasets."
   ]
  },
  {
   "cell_type": "code",
   "execution_count": 86,
   "id": "fabbb8e6",
   "metadata": {},
   "outputs": [],
   "source": [
    "log_reg_baseline = LogisticRegression(penalty='l2', class_weight='balanced', random_state=20)\n",
    "# class_weight='balanced' actually didn't impact the score"
   ]
  },
  {
   "cell_type": "markdown",
   "id": "ece755d1",
   "metadata": {},
   "source": [
    "Here I added class_weight='balanced' again, but this actually didn't impact the score. So we'll keep that hyperparamter. Also note that the penality is set to L2, but that's already the default."
   ]
  },
  {
   "cell_type": "code",
   "execution_count": 87,
   "id": "beff7475",
   "metadata": {},
   "outputs": [
    {
     "name": "stdout",
     "output_type": "stream",
     "text": [
      "Wall time: 564 ms\n"
     ]
    }
   ],
   "source": [
    "%%time\n",
    "log_reg_baseline.fit(X_train_tfidf, y_train)\n",
    "log_reg_test_preds = log_reg_baseline.predict(X_test_tfidf)"
   ]
  },
  {
   "cell_type": "code",
   "execution_count": 88,
   "id": "8976d613",
   "metadata": {},
   "outputs": [
    {
     "name": "stdout",
     "output_type": "stream",
     "text": [
      "Testing Set Evaluation Metrics:\n",
      "Precision: 0.6971\n",
      "Recall: 0.7297\n",
      "F1 Score: 0.713\n",
      "Weighted F1 Score: 0.806\n"
     ]
    }
   ],
   "source": [
    "log_reg_precision = precision_score(y_test, log_reg_test_preds)\n",
    "log_reg_recall = recall_score(y_test, log_reg_test_preds)\n",
    "log_reg_f1_score = f1_score(y_test, log_reg_test_preds)\n",
    "log_reg_f1_weighted = f1_score(y_test, log_reg_test_preds, average='weighted')\n",
    "\n",
    "# printing scores\n",
    "helpers.evaluation(log_reg_precision, log_reg_recall, log_reg_f1_score, log_reg_f1_weighted)"
   ]
  },
  {
   "cell_type": "markdown",
   "id": "4a8ec3c7",
   "metadata": {},
   "source": [
    "Compared the the first Random Forest baseline, the Logistic Regression baseline performed much better. The F1 score increased from 0.679 to 0.713.\n",
    "\n",
    "Although, this F1 score could still be increased. Before deciding on the model to iterate on, let's try Naive Bayes and SVM baselines first."
   ]
  },
  {
   "cell_type": "code",
   "execution_count": 89,
   "id": "cb13b553",
   "metadata": {},
   "outputs": [
    {
     "name": "stdout",
     "output_type": "stream",
     "text": [
      "Wall time: 2.92 s\n"
     ]
    }
   ],
   "source": [
    "%%time\n",
    "# training f1\n",
    "log_reg_f1_cv = cross_val_score(log_reg_baseline, X_train_tfidf, y_train, scoring='f1', cv=5)\n",
    "log_reg_mean_cv = round(log_reg_f1_cv.mean(), 6)"
   ]
  },
  {
   "cell_type": "code",
   "execution_count": 90,
   "id": "3c945fbd",
   "metadata": {},
   "outputs": [
    {
     "data": {
      "text/plain": [
       "'underfit'"
      ]
     },
     "execution_count": 90,
     "metadata": {},
     "output_type": "execute_result"
    }
   ],
   "source": [
    "# Let us check if is this model overfit or underfit?\n",
    "log_reg_fit = helpers.model_fit(log_reg_mean_cv, log_reg_f1_score)\n",
    "log_reg_fit"
   ]
  },
  {
   "cell_type": "code",
   "execution_count": 91,
   "id": "ac7239a7",
   "metadata": {},
   "outputs": [],
   "source": [
    "# adding scores to metric_dict\n",
    "metric_dict['Baseline Log Reg - TFIDF'] = {'precision': log_reg_precision, 'recall': log_reg_recall, 'f1_score': log_reg_f1_score, 'weighted_f1': log_reg_f1_weighted, 'fit': log_reg_fit}"
   ]
  },
  {
   "cell_type": "markdown",
   "id": "4940110f",
   "metadata": {},
   "source": [
    "### Baseline Naive Bayes"
   ]
  },
  {
   "cell_type": "code",
   "execution_count": 92,
   "id": "5d8b6ba2",
   "metadata": {},
   "outputs": [],
   "source": [
    "from sklearn.naive_bayes import MultinomialNB\n",
    "baseline_bayes = MultinomialNB(alpha = .01)"
   ]
  },
  {
   "cell_type": "code",
   "execution_count": 93,
   "id": "5b70f1ee",
   "metadata": {},
   "outputs": [
    {
     "name": "stdout",
     "output_type": "stream",
     "text": [
      "Wall time: 15.6 ms\n"
     ]
    }
   ],
   "source": [
    "%%time\n",
    "baseline_bayes.fit(X_train_tfidf, y_train)\n",
    "bayes_test_preds = baseline_bayes.predict(X_test_tfidf)"
   ]
  },
  {
   "cell_type": "code",
   "execution_count": 94,
   "id": "4886318c",
   "metadata": {},
   "outputs": [
    {
     "name": "stdout",
     "output_type": "stream",
     "text": [
      "Testing Set Evaluation Metrics:\n",
      "Precision: 0.6872\n",
      "Recall: 0.6189\n",
      "F1 Score: 0.6513\n",
      "Weighted F1 Score: 0.7768\n"
     ]
    }
   ],
   "source": [
    "bayes_precision = precision_score(y_test, bayes_test_preds)\n",
    "bayes_recall = recall_score(y_test, bayes_test_preds)\n",
    "bayes_f1_score = f1_score(y_test, bayes_test_preds)\n",
    "bayes_f1_weighted = f1_score(y_test, bayes_test_preds, average='weighted')\n",
    "\n",
    "# printing scores\n",
    "helpers.evaluation(bayes_precision, bayes_recall, bayes_f1_score, bayes_f1_weighted)"
   ]
  },
  {
   "cell_type": "markdown",
   "id": "e17a6c05",
   "metadata": {},
   "source": [
    "The F1 score dropped down to 0.6513. So, this model performed worse than both the Random Forest and Logistic Regression models. This is surprising because Naive Bayes typically performs pretty well with text data. This could indicate that preprocessing steps could be improved.\n",
    "\n",
    "For now, let's try the last baseline and decide which model to iterate on."
   ]
  },
  {
   "cell_type": "code",
   "execution_count": 95,
   "id": "772e1be4",
   "metadata": {},
   "outputs": [
    {
     "name": "stdout",
     "output_type": "stream",
     "text": [
      "Wall time: 56.1 ms\n"
     ]
    }
   ],
   "source": [
    "%%time\n",
    "# training f1\n",
    "bayes_f1_cv = cross_val_score(baseline_bayes, X_train_tfidf, y_train, scoring='f1', cv=5)\n",
    "bayes_mean_cv = round(bayes_f1_cv.mean(), 6)"
   ]
  },
  {
   "cell_type": "code",
   "execution_count": 96,
   "id": "07b4ca2a",
   "metadata": {},
   "outputs": [
    {
     "data": {
      "text/plain": [
       "'overfit'"
      ]
     },
     "execution_count": 96,
     "metadata": {},
     "output_type": "execute_result"
    }
   ],
   "source": [
    "# Checking if the model is overfit or underfit?\n",
    "bayes_fit = helpers.model_fit(bayes_mean_cv, bayes_f1_score)\n",
    "bayes_fit"
   ]
  },
  {
   "cell_type": "code",
   "execution_count": 97,
   "id": "f6015c4b",
   "metadata": {},
   "outputs": [],
   "source": [
    "# adding scores to metric_dict\n",
    "metric_dict['Baseline Naive Bayes - TFIDF'] = {'precision': bayes_precision, 'recall': bayes_recall, 'f1_score': bayes_f1_score, 'weighted_f1': bayes_f1_weighted, 'fit': bayes_fit}"
   ]
  },
  {
   "cell_type": "markdown",
   "id": "c9172e46",
   "metadata": {},
   "source": [
    "### Baseline Support Vector Machine (SVM)\n",
    "\n",
    "An SVM is a type of classifier that modifies the loss function for optimization to not only take into account overall accuracy metrics of the resulting predictions, but also to maximize the decision boundary between the data points. Essentially, this further helps tune the classifier as a good balance between underfitting and overfitting.\n",
    "\n",
    "A notable hyperparameter is the Kernel, which reprojects data onto a new parameter space using combinations of existing features. From there, the same process of applying SVMs to this transformed space can then be employed. This could provide more complex boundaries than just Linear.\n",
    "\n",
    "For now, I am trying SVM with a Linear kernel as a baseline."
   ]
  },
  {
   "cell_type": "code",
   "execution_count": 98,
   "id": "f93bd3ab",
   "metadata": {},
   "outputs": [],
   "source": [
    "SVM_baseline = svm.SVC(C=1.0, kernel='linear', degree=3, gamma='auto', class_weight='balanced')"
   ]
  },
  {
   "cell_type": "markdown",
   "id": "0b57dd89",
   "metadata": {},
   "source": [
    "I have also added class_weight='balanced' to SVM models. This helps to deal with the huge class imbalance in this dataset."
   ]
  },
  {
   "cell_type": "code",
   "execution_count": 99,
   "id": "d1fae652",
   "metadata": {},
   "outputs": [
    {
     "name": "stdout",
     "output_type": "stream",
     "text": [
      "Wall time: 38.3 s\n"
     ]
    }
   ],
   "source": [
    "%%time \n",
    "# fit the training dataset on the classifier\n",
    "SVM_baseline.fit(X_train_tfidf, y_train)\n",
    "# predict the labels on validation dataset\n",
    "SVM_test_preds = SVM_baseline.predict(X_test_tfidf)"
   ]
  },
  {
   "cell_type": "code",
   "execution_count": 100,
   "id": "0e5f44b8",
   "metadata": {},
   "outputs": [
    {
     "name": "stdout",
     "output_type": "stream",
     "text": [
      "Testing Set Evaluation Metrics:\n",
      "Precision: 0.6926\n",
      "Recall: 0.7488\n",
      "F1 Score: 0.7196\n",
      "Weighted F1 Score: 0.808\n"
     ]
    }
   ],
   "source": [
    "SVM_precision = precision_score(y_test, SVM_test_preds)\n",
    "SVM_recall = recall_score(y_test, SVM_test_preds)\n",
    "SVM_f1_score = f1_score(y_test, SVM_test_preds)\n",
    "SVM_f1_weighted = f1_score(y_test, SVM_test_preds, average='weighted')\n",
    "\n",
    "# printing scores\n",
    "helpers.evaluation(SVM_precision, SVM_recall, SVM_f1_score, SVM_f1_weighted)"
   ]
  },
  {
   "cell_type": "markdown",
   "id": "aa091e38",
   "metadata": {},
   "source": [
    "This model produced the highest F1 so far, with a score of 0.7196. Next, let's look at the performance of all baselines all together, and move forward with a single model to iterate on."
   ]
  },
  {
   "cell_type": "code",
   "execution_count": 101,
   "id": "ad180824",
   "metadata": {},
   "outputs": [
    {
     "name": "stdout",
     "output_type": "stream",
     "text": [
      "Wall time: 1min 29s\n"
     ]
    }
   ],
   "source": [
    "%%time\n",
    "# training f1\n",
    "base_SVM_f1_cv = cross_val_score(SVM_baseline, X_train_tfidf, y_train, scoring='f1', cv=5)\n",
    "base_SVM_mean_cv = round(base_SVM_f1_cv.mean(), 6)"
   ]
  },
  {
   "cell_type": "code",
   "execution_count": 102,
   "id": "cbdb8415",
   "metadata": {},
   "outputs": [
    {
     "data": {
      "text/plain": [
       "'underfit'"
      ]
     },
     "execution_count": 102,
     "metadata": {},
     "output_type": "execute_result"
    }
   ],
   "source": [
    "# Checking if the model is overfit or underfit?\n",
    "base_SVM_fit = helpers.model_fit(base_SVM_mean_cv, SVM_f1_score)\n",
    "base_SVM_fit"
   ]
  },
  {
   "cell_type": "code",
   "execution_count": 103,
   "id": "905e638a",
   "metadata": {},
   "outputs": [],
   "source": [
    "# adding scores to metric_dict\n",
    "metric_dict['Baseline SVM - TFIDF'] = {'precision': SVM_precision, 'recall': SVM_recall, 'f1_score': SVM_f1_score, 'weighted_f1': SVM_f1_weighted, 'fit': base_SVM_fit}"
   ]
  },
  {
   "cell_type": "markdown",
   "id": "5518ce65",
   "metadata": {},
   "source": [
    "## Evaluation Metrics for All Baseline Models"
   ]
  },
  {
   "cell_type": "code",
   "execution_count": 104,
   "id": "0969eb73",
   "metadata": {},
   "outputs": [
    {
     "data": {
      "text/html": [
       "<div>\n",
       "<style scoped>\n",
       "    .dataframe tbody tr th:only-of-type {\n",
       "        vertical-align: middle;\n",
       "    }\n",
       "\n",
       "    .dataframe tbody tr th {\n",
       "        vertical-align: top;\n",
       "    }\n",
       "\n",
       "    .dataframe thead th {\n",
       "        text-align: right;\n",
       "    }\n",
       "</style>\n",
       "<table border=\"1\" class=\"dataframe\">\n",
       "  <thead>\n",
       "    <tr style=\"text-align: right;\">\n",
       "      <th></th>\n",
       "      <th>precision</th>\n",
       "      <th>recall</th>\n",
       "      <th>f1_score</th>\n",
       "      <th>weighted_f1</th>\n",
       "      <th>fit</th>\n",
       "    </tr>\n",
       "  </thead>\n",
       "  <tbody>\n",
       "    <tr>\n",
       "      <th>Baseline Random Forest - TFIDF</th>\n",
       "      <td>0.772506</td>\n",
       "      <td>0.606495</td>\n",
       "      <td>0.679508</td>\n",
       "      <td>0.803404</td>\n",
       "      <td>underfit</td>\n",
       "    </tr>\n",
       "    <tr>\n",
       "      <th>Baseline Log Reg - TFIDF</th>\n",
       "      <td>0.697080</td>\n",
       "      <td>0.729704</td>\n",
       "      <td>0.713019</td>\n",
       "      <td>0.806030</td>\n",
       "      <td>underfit</td>\n",
       "    </tr>\n",
       "    <tr>\n",
       "      <th>Baseline Naive Bayes - TFIDF</th>\n",
       "      <td>0.687169</td>\n",
       "      <td>0.618911</td>\n",
       "      <td>0.651256</td>\n",
       "      <td>0.776793</td>\n",
       "      <td>overfit</td>\n",
       "    </tr>\n",
       "    <tr>\n",
       "      <th>Baseline SVM - TFIDF</th>\n",
       "      <td>0.692580</td>\n",
       "      <td>0.748806</td>\n",
       "      <td>0.719596</td>\n",
       "      <td>0.808000</td>\n",
       "      <td>underfit</td>\n",
       "    </tr>\n",
       "  </tbody>\n",
       "</table>\n",
       "</div>"
      ],
      "text/plain": [
       "                                precision    recall  f1_score  weighted_f1  \\\n",
       "Baseline Random Forest - TFIDF   0.772506  0.606495  0.679508     0.803404   \n",
       "Baseline Log Reg - TFIDF         0.697080  0.729704  0.713019     0.806030   \n",
       "Baseline Naive Bayes - TFIDF     0.687169  0.618911  0.651256     0.776793   \n",
       "Baseline SVM - TFIDF             0.692580  0.748806  0.719596     0.808000   \n",
       "\n",
       "                                     fit  \n",
       "Baseline Random Forest - TFIDF  underfit  \n",
       "Baseline Log Reg - TFIDF        underfit  \n",
       "Baseline Naive Bayes - TFIDF     overfit  \n",
       "Baseline SVM - TFIDF            underfit  "
      ]
     },
     "execution_count": 104,
     "metadata": {},
     "output_type": "execute_result"
    }
   ],
   "source": [
    "# printing dict for testing set metrics\n",
    "pd.DataFrame.from_dict(metric_dict, orient='index')"
   ]
  },
  {
   "cell_type": "markdown",
   "id": "fce17a6a",
   "metadata": {},
   "source": [
    "It's a pretty close call between the Logistic Regression and SVM baselines. But overall, the **Linear SVM model** performed the best across both uniform and weighted F1. However, there is still work to be done to bring that score up higher.\n",
    "\n",
    "Next, we'll try improving that model with other feature engineering techniques, class imbalance remedy methods and tuning hyperparameters with grid search."
   ]
  },
  {
   "cell_type": "markdown",
   "id": "0922e431",
   "metadata": {},
   "source": [
    "## Alternative Feature Engineering Methods\n",
    "In this section, we can experiment with Count Vectorization and Doc2Vec as they are different ways to represent the data in a format that the machine learning models can \"understand.\""
   ]
  },
  {
   "cell_type": "markdown",
   "id": "4cda4c35",
   "metadata": {},
   "source": [
    "## Doc2Vec\n",
    "\n",
    "I am trying Doc2Vec feature engineering, which is an extension of Word2Vec. It aims to learn how to project a document into a latent d-dimensional space. Specifically, the Distributed Bag of Words (DBOW) model ignores the context words in the input, but instead forces the model to predict words randomly sampled from the paragraph in the output."
   ]
  },
  {
   "cell_type": "code",
   "execution_count": 105,
   "id": "c2cb3ec3",
   "metadata": {},
   "outputs": [],
   "source": [
    "# fresh TTS for doc2vec data\n",
    "doc_train, doc_test = train_test_split(tweet_df, test_size=0.3, random_state=42)"
   ]
  },
  {
   "cell_type": "markdown",
   "id": "17e93251",
   "metadata": {},
   "source": [
    "## Data Preparation\n",
    "After performing a fresh train test split of the original dataframe, the next step is tokenizing the text as usual. Again, we can do this with NLTK.\n",
    "\n",
    "The lambda functions below will tokenize both the training and test set and tag each tweet with its label, \"Bullying\" or \"Not Bullying.\""
   ]
  },
  {
   "cell_type": "code",
   "execution_count": 106,
   "id": "03f7e2e3",
   "metadata": {},
   "outputs": [],
   "source": [
    "# tagging training set\n",
    "from gensim.models.doc2vec import Doc2Vec, TaggedDocument\n",
    "tagged_train = doc_train.apply(\n",
    "    lambda r: TaggedDocument(words=helpers.tokenize_text(r['clean_tweets']), tags=[r.oh_label]), axis=1)\n",
    "# tagging testing set\n",
    "tagged_test = doc_test.apply(\n",
    "    lambda r: TaggedDocument(words=helpers.tokenize_text(r['clean_tweets']), tags=[r.oh_label]), axis=1)"
   ]
  },
  {
   "cell_type": "code",
   "execution_count": 107,
   "id": "f83ff329",
   "metadata": {},
   "outputs": [
    {
     "data": {
      "text/plain": [
       "TaggedDocument(words=['suport', 'ghazi', 'safe', 'vent', 'space', 'peopl', 'victim', 'gamerg', 'haras'], tags=[0])"
      ]
     },
     "execution_count": 107,
     "metadata": {},
     "output_type": "execute_result"
    }
   ],
   "source": [
    "tagged_train.values[30]"
   ]
  },
  {
   "cell_type": "markdown",
   "id": "c874185b",
   "metadata": {},
   "source": [
    "### Training DBOW Model\n",
    "\n",
    "As mentioned before, the Distributed Bag of Words (DBOW) model ignores the context words in the input, but instead forces the model to predict words randomly sampled from the paragraph in the output. It's similar to the Skip-gram model in Word2Vec.\n",
    "\n",
    "The hyperparameters I am using are as follows:\n",
    "- `vector_size`: dimensionality of the feature vectors\n",
    "- `alpha`: initial learning rate\n",
    "- `min_count`: ignores all words with total frequency lower than this\n",
    "- `dm`: defines the training algorithm; when dm=1, 'distributed memeory' (PV-DVM) is used\n",
    "- `epochs`: number of iterations (epochs) over the corpus, defaults to 10 for Doc2Vec"
   ]
  },
  {
   "cell_type": "code",
   "execution_count": 108,
   "id": "cad87742",
   "metadata": {},
   "outputs": [],
   "source": [
    "# instantiating a doc2vec DBOW model\n",
    "dbow_model = Doc2Vec(vector_size=100, \n",
    "                alpha=0.025, \n",
    "                min_count=5,\n",
    "                dm=1,epochs =100)"
   ]
  },
  {
   "cell_type": "code",
   "execution_count": 109,
   "id": "3ce7293c",
   "metadata": {},
   "outputs": [
    {
     "name": "stderr",
     "output_type": "stream",
     "text": [
      "100%|██████████| 11033/11033 [00:00<00:00, 1107234.44it/s]\n"
     ]
    }
   ],
   "source": [
    "from tqdm import tqdm\n",
    "from sklearn import utils\n",
    "tqdm.pandas(desc=\"progress-bar\")\n",
    "\n",
    "# building vocabulary \n",
    "dbow_model.build_vocab([x for x in tqdm(tagged_train.values)])"
   ]
  },
  {
   "cell_type": "code",
   "execution_count": 110,
   "id": "00a41c85",
   "metadata": {},
   "outputs": [
    {
     "name": "stderr",
     "output_type": "stream",
     "text": [
      "100%|██████████| 11033/11033 [00:00<00:00, 1843802.54it/s]\n",
      "100%|██████████| 11033/11033 [00:00<00:00, 946973.54it/s]\n",
      "100%|██████████| 11033/11033 [00:00<00:00, 1005426.41it/s]\n",
      "100%|██████████| 11033/11033 [00:00<00:00, 830252.01it/s]\n",
      "100%|██████████| 11033/11033 [00:00<00:00, 817001.04it/s]\n",
      "100%|██████████| 11033/11033 [00:00<00:00, 704875.11it/s]\n",
      "100%|██████████| 11033/11033 [00:00<00:00, 716797.91it/s]\n",
      "100%|██████████| 11033/11033 [00:00<00:00, 544696.21it/s]\n",
      "100%|██████████| 11033/11033 [00:00<00:00, 953667.38it/s]\n",
      "100%|██████████| 11033/11033 [00:00<00:00, 940583.26it/s]\n",
      "100%|██████████| 11033/11033 [00:00<00:00, 920452.63it/s]\n",
      "100%|██████████| 11033/11033 [00:00<00:00, 656524.08it/s]\n",
      "100%|██████████| 11033/11033 [00:00<00:00, 574639.96it/s]\n",
      "100%|██████████| 11033/11033 [00:00<00:00, 2765208.01it/s]\n",
      "100%|██████████| 11033/11033 [00:00<00:00, 552896.23it/s]\n",
      "100%|██████████| 11033/11033 [00:00<00:00, 2762566.77it/s]\n",
      "100%|██████████| 11033/11033 [00:00<00:00, 605259.97it/s]\n",
      "100%|██████████| 11033/11033 [00:00<00:00, 795731.34it/s]\n",
      "100%|██████████| 11033/11033 [00:00<00:00, 808324.27it/s]\n",
      "100%|██████████| 11033/11033 [00:00<00:00, 851863.04it/s]\n",
      "100%|██████████| 11033/11033 [00:00<00:00, 1358454.60it/s]\n",
      "100%|██████████| 11033/11033 [00:00<00:00, 1047816.23it/s]\n",
      "100%|██████████| 11033/11033 [00:00<00:00, 964862.20it/s]\n",
      "100%|██████████| 11033/11033 [00:00<00:00, 524614.90it/s]\n",
      "100%|██████████| 11033/11033 [00:00<?, ?it/s]\n",
      "100%|██████████| 11033/11033 [00:00<00:00, 919794.00it/s]\n",
      "100%|██████████| 11033/11033 [00:00<00:00, 530296.07it/s]\n",
      "100%|██████████| 11033/11033 [00:00<00:00, 825600.90it/s]\n",
      "100%|██████████| 11033/11033 [00:00<00:00, 585117.29it/s]\n",
      "100%|██████████| 11033/11033 [00:00<00:00, 581302.60it/s]\n"
     ]
    },
    {
     "name": "stdout",
     "output_type": "stream",
     "text": [
      "Wall time: 25.6 s\n"
     ]
    }
   ],
   "source": [
    "\n",
    "%%time\n",
    "for epoch in range(30):\n",
    "    dbow_model.train(utils.shuffle([x for x in tqdm(tagged_train.values)]), total_examples=len(tagged_train.values), epochs=1)\n",
    "    dbow_model.alpha -= 0.002\n",
    "    dbow_model.min_alpha = dbow_model.alpha"
   ]
  },
  {
   "cell_type": "markdown",
   "id": "42da58c0",
   "metadata": {},
   "source": [
    "## Applying Doc2Vec Data to Train Baseline Linear SVM\n",
    "\n",
    "The custom function `vec_for_learning` simply transforms the tagged tweets into vectors that are suitable for classification model use."
   ]
  },
  {
   "cell_type": "code",
   "execution_count": 111,
   "id": "5d47a1f8",
   "metadata": {},
   "outputs": [],
   "source": [
    "def vec_for_learning(model, tagged_docs):\n",
    "    \"\"\"Final vector feature for classifier use\"\"\"\n",
    "    targets = []\n",
    "    regressors = []\n",
    "    for doc in tagged_docs:\n",
    "        vector = model.infer_vector(doc.words)\n",
    "        targets.append(doc.tags[0])\n",
    "        regressors.append(vector)\n",
    "    return targets, regressors\n"
   ]
  },
  {
   "cell_type": "code",
   "execution_count": 112,
   "id": "04769b7c",
   "metadata": {
    "scrolled": true
   },
   "outputs": [],
   "source": [
    "# train-test split\n",
    "doc_y_train, doc_X_train = vec_for_learning(dbow_model, tagged_train)\n",
    "doc_y_test, doc_X_test = vec_for_learning(dbow_model, tagged_test)"
   ]
  },
  {
   "cell_type": "code",
   "execution_count": 113,
   "id": "27d89f4e",
   "metadata": {},
   "outputs": [],
   "source": [
    "# instantiating new SVM model\n",
    "Doc2Vec_SVM = svm.SVC(C=1.0, kernel='linear', degree=3, gamma='auto', class_weight='balanced')"
   ]
  },
  {
   "cell_type": "code",
   "execution_count": 114,
   "id": "d354a8ce",
   "metadata": {},
   "outputs": [
    {
     "name": "stdout",
     "output_type": "stream",
     "text": [
      "Wall time: 18.4 s\n"
     ]
    },
    {
     "data": {
      "text/plain": [
       "SVC(class_weight='balanced', gamma='auto', kernel='linear')"
      ]
     },
     "execution_count": 114,
     "metadata": {},
     "output_type": "execute_result"
    }
   ],
   "source": [
    "%%time\n",
    "# fit the training dataset on the classifier\n",
    "Doc2Vec_SVM.fit(doc_X_train, doc_y_train)"
   ]
  },
  {
   "cell_type": "code",
   "execution_count": 115,
   "id": "b63ce2de",
   "metadata": {},
   "outputs": [],
   "source": [
    "doc_SVM_y_preds = Doc2Vec_SVM.predict(doc_X_test)"
   ]
  },
  {
   "cell_type": "code",
   "execution_count": 116,
   "id": "fd19ad90",
   "metadata": {},
   "outputs": [
    {
     "name": "stdout",
     "output_type": "stream",
     "text": [
      "Testing Set Evaluation Metrics:\n",
      "Precision: 0.468\n",
      "Recall: 0.4182\n",
      "F1 Score: 0.4417\n",
      "Weighted F1 Score: 0.6354\n"
     ]
    }
   ],
   "source": [
    "doc_SVM_precision = precision_score(doc_y_test, doc_SVM_y_preds)\n",
    "doc_SVM_recall = recall_score(doc_y_test, doc_SVM_y_preds)\n",
    "doc_SVM_f1_score = f1_score(doc_y_test, doc_SVM_y_preds)\n",
    "doc_SVM_f1_weighted = f1_score(doc_y_test, doc_SVM_y_preds, average='weighted')\n",
    "\n",
    "# printing scores\n",
    "helpers.evaluation(doc_SVM_precision, doc_SVM_recall, doc_SVM_f1_score, doc_SVM_f1_weighted)"
   ]
  },
  {
   "cell_type": "code",
   "execution_count": 117,
   "id": "6fd69c6c",
   "metadata": {},
   "outputs": [
    {
     "name": "stdout",
     "output_type": "stream",
     "text": [
      "Wall time: 1min 6s\n"
     ]
    }
   ],
   "source": [
    "%%time\n",
    "# training f1\n",
    "doc_SVM_f1_cv = cross_val_score(Doc2Vec_SVM, doc_X_train, doc_y_train, scoring='f1', cv=5)\n",
    "doc_SVM_mean_cv = round(doc_SVM_f1_cv.mean(), 6)"
   ]
  },
  {
   "cell_type": "code",
   "execution_count": 118,
   "id": "ebeed5dc",
   "metadata": {},
   "outputs": [
    {
     "data": {
      "text/plain": [
       "'underfit'"
      ]
     },
     "execution_count": 118,
     "metadata": {},
     "output_type": "execute_result"
    }
   ],
   "source": [
    "# Checking if the model is overfit or underfit?\n",
    "doc_SVM_fit = helpers.model_fit(doc_SVM_mean_cv, doc_SVM_f1_score)\n",
    "doc_SVM_fit"
   ]
  },
  {
   "cell_type": "code",
   "execution_count": 119,
   "id": "ef33743d",
   "metadata": {},
   "outputs": [],
   "source": [
    "metric_dict['Baseline SVM - Doc2Vec'] = {'precision': doc_SVM_precision, 'recall': doc_SVM_recall, 'f1_score': doc_SVM_f1_score, 'weighted_f1': doc_SVM_f1_weighted, 'fit': doc_SVM_fit}"
   ]
  },
  {
   "cell_type": "markdown",
   "id": "ff662c87",
   "metadata": {},
   "source": [
    "### Comparing with Other Models"
   ]
  },
  {
   "cell_type": "code",
   "execution_count": 120,
   "id": "ac313c4f",
   "metadata": {},
   "outputs": [
    {
     "data": {
      "text/html": [
       "<div>\n",
       "<style scoped>\n",
       "    .dataframe tbody tr th:only-of-type {\n",
       "        vertical-align: middle;\n",
       "    }\n",
       "\n",
       "    .dataframe tbody tr th {\n",
       "        vertical-align: top;\n",
       "    }\n",
       "\n",
       "    .dataframe thead th {\n",
       "        text-align: right;\n",
       "    }\n",
       "</style>\n",
       "<table border=\"1\" class=\"dataframe\">\n",
       "  <thead>\n",
       "    <tr style=\"text-align: right;\">\n",
       "      <th></th>\n",
       "      <th>precision</th>\n",
       "      <th>recall</th>\n",
       "      <th>f1_score</th>\n",
       "      <th>weighted_f1</th>\n",
       "      <th>fit</th>\n",
       "    </tr>\n",
       "  </thead>\n",
       "  <tbody>\n",
       "    <tr>\n",
       "      <th>Baseline Random Forest - TFIDF</th>\n",
       "      <td>0.772506</td>\n",
       "      <td>0.606495</td>\n",
       "      <td>0.679508</td>\n",
       "      <td>0.803404</td>\n",
       "      <td>underfit</td>\n",
       "    </tr>\n",
       "    <tr>\n",
       "      <th>Baseline Log Reg - TFIDF</th>\n",
       "      <td>0.697080</td>\n",
       "      <td>0.729704</td>\n",
       "      <td>0.713019</td>\n",
       "      <td>0.806030</td>\n",
       "      <td>underfit</td>\n",
       "    </tr>\n",
       "    <tr>\n",
       "      <th>Baseline Naive Bayes - TFIDF</th>\n",
       "      <td>0.687169</td>\n",
       "      <td>0.618911</td>\n",
       "      <td>0.651256</td>\n",
       "      <td>0.776793</td>\n",
       "      <td>overfit</td>\n",
       "    </tr>\n",
       "    <tr>\n",
       "      <th>Baseline SVM - TFIDF</th>\n",
       "      <td>0.692580</td>\n",
       "      <td>0.748806</td>\n",
       "      <td>0.719596</td>\n",
       "      <td>0.808000</td>\n",
       "      <td>underfit</td>\n",
       "    </tr>\n",
       "    <tr>\n",
       "      <th>Baseline SVM - Doc2Vec</th>\n",
       "      <td>0.467967</td>\n",
       "      <td>0.418171</td>\n",
       "      <td>0.441669</td>\n",
       "      <td>0.635421</td>\n",
       "      <td>underfit</td>\n",
       "    </tr>\n",
       "  </tbody>\n",
       "</table>\n",
       "</div>"
      ],
      "text/plain": [
       "                                precision    recall  f1_score  weighted_f1  \\\n",
       "Baseline Random Forest - TFIDF   0.772506  0.606495  0.679508     0.803404   \n",
       "Baseline Log Reg - TFIDF         0.697080  0.729704  0.713019     0.806030   \n",
       "Baseline Naive Bayes - TFIDF     0.687169  0.618911  0.651256     0.776793   \n",
       "Baseline SVM - TFIDF             0.692580  0.748806  0.719596     0.808000   \n",
       "Baseline SVM - Doc2Vec           0.467967  0.418171  0.441669     0.635421   \n",
       "\n",
       "                                     fit  \n",
       "Baseline Random Forest - TFIDF  underfit  \n",
       "Baseline Log Reg - TFIDF        underfit  \n",
       "Baseline Naive Bayes - TFIDF     overfit  \n",
       "Baseline SVM - TFIDF            underfit  \n",
       "Baseline SVM - Doc2Vec          underfit  "
      ]
     },
     "execution_count": 120,
     "metadata": {},
     "output_type": "execute_result"
    }
   ],
   "source": [
    "# printing dict for testing set metrics\n",
    "pd.DataFrame.from_dict(metric_dict, orient='index')"
   ]
  },
  {
   "cell_type": "markdown",
   "id": "cfec0612",
   "metadata": {},
   "source": [
    "### SVM Baselines: TF-IDF vs. Doc2Vec"
   ]
  },
  {
   "cell_type": "code",
   "execution_count": 121,
   "id": "fea3af49",
   "metadata": {},
   "outputs": [
    {
     "name": "stdout",
     "output_type": "stream",
     "text": [
      "-------------- SVM Baseline with TF-IDF -------------\n",
      "              precision    recall  f1-score   support\n",
      "\n",
      "     class 0       0.87      0.83      0.85      2106\n",
      "     class 1       0.69      0.75      0.72      1047\n",
      "\n",
      "    accuracy                           0.81      3153\n",
      "   macro avg       0.78      0.79      0.79      3153\n",
      "weighted avg       0.81      0.81      0.81      3153\n",
      "\n",
      "------------- SVM Baseline with Doc2Vec -------------\n",
      "              precision    recall  f1-score   support\n",
      "\n",
      "     class 0       0.72      0.76      0.74      3122\n",
      "     class 1       0.47      0.42      0.44      1607\n",
      "\n",
      "    accuracy                           0.64      4729\n",
      "   macro avg       0.59      0.59      0.59      4729\n",
      "weighted avg       0.63      0.64      0.64      4729\n",
      "\n"
     ]
    }
   ],
   "source": [
    "from sklearn.metrics import precision_score, recall_score, f1_score, confusion_matrix, plot_confusion_matrix, classification_report\n",
    "target_names = ['class 0', 'class 1']\n",
    "# Tf-IDF baseline\n",
    "print('-'*14 + ' SVM Baseline with TF-IDF ' + '-'*13)\n",
    "print(classification_report(y_test, SVM_test_preds, target_names=target_names))\n",
    "# Doc2Vec baseline\n",
    "print('-'*13 + ' SVM Baseline with Doc2Vec ' + '-'*13)\n",
    "print(classification_report(doc_y_test, doc_SVM_y_preds, target_names=target_names))"
   ]
  },
  {
   "cell_type": "markdown",
   "id": "3b42d348",
   "metadata": {},
   "source": [
    "## Count Vectorization"
   ]
  },
  {
   "cell_type": "code",
   "execution_count": 220,
   "id": "1ca38911",
   "metadata": {},
   "outputs": [],
   "source": [
    "# fresh TTS\n",
    "X_train, X_test, y_train, y_test = train_test_split(X_lem, y_lem, test_size=0.20, random_state=20)"
   ]
  },
  {
   "cell_type": "code",
   "execution_count": 221,
   "id": "bebc4d49",
   "metadata": {},
   "outputs": [],
   "source": [
    "# instantiating count vectorizer\n",
    "count = CountVectorizer(stop_words=stop_words)"
   ]
  },
  {
   "cell_type": "code",
   "execution_count": 222,
   "id": "8ba6c6b4",
   "metadata": {},
   "outputs": [],
   "source": [
    "# fitting to the train and test set\n",
    "X_train_count = count.fit_transform(X_train)\n",
    "X_test_count = count.transform(X_test)"
   ]
  },
  {
   "cell_type": "markdown",
   "id": "f321daac",
   "metadata": {},
   "source": [
    "## Baseline Linear SVM with Count Vectorization\n",
    "\n",
    "With TF-IDF Vectorization, the Linear SVM achieved an F1 of 0.7195. Let's see the Count Vectorization method for feature engineering can improve that score."
   ]
  },
  {
   "cell_type": "code",
   "execution_count": 223,
   "id": "8b1a1139",
   "metadata": {},
   "outputs": [],
   "source": [
    "count_SVM = svm.SVC(C=1.0, kernel='linear', degree=3, gamma='auto', class_weight='balanced')"
   ]
  },
  {
   "cell_type": "code",
   "execution_count": 224,
   "id": "dffd52a0",
   "metadata": {},
   "outputs": [
    {
     "name": "stdout",
     "output_type": "stream",
     "text": [
      "Wall time: 25.8 s\n"
     ]
    }
   ],
   "source": [
    "%%time \n",
    "# fit the training dataset on the classifier\n",
    "count_SVM.fit(X_train_count, y_train)\n",
    "# predict the labels on validation dataset\n",
    "count_SVM_test_preds = count_SVM.predict(X_test_count)"
   ]
  },
  {
   "cell_type": "code",
   "execution_count": 226,
   "id": "f7e84c0c",
   "metadata": {},
   "outputs": [
    {
     "name": "stdout",
     "output_type": "stream",
     "text": [
      "              precision    recall  f1-score   support\n",
      "\n",
      "     class 0       0.85      0.84      0.84      2094\n",
      "     class 1       0.69      0.71      0.70      1059\n",
      "\n",
      "    accuracy                           0.79      3153\n",
      "   macro avg       0.77      0.77      0.77      3153\n",
      "weighted avg       0.80      0.79      0.80      3153\n",
      "\n",
      "Testing Set Evaluation Metrics:\n",
      "Precision: 0.689\n",
      "Recall: 0.7092\n",
      "F1 Score: 0.6989\n",
      "Weighted F1 Score: 0.7955\n"
     ]
    }
   ],
   "source": [
    "from sklearn.metrics import precision_score, recall_score, f1_score, confusion_matrix, plot_confusion_matrix, classification_report\n",
    "count_SVM_precision = precision_score(y_test, count_SVM_test_preds)\n",
    "count_SVM_recall = recall_score(y_test, count_SVM_test_preds)\n",
    "count_SVM_f1_score = f1_score(y_test, count_SVM_test_preds)\n",
    "count_SVM_f1_weighted = f1_score(y_test, count_SVM_test_preds, average='weighted')\n",
    "\n",
    "# printing scores\n",
    "target_names = ['class 0', 'class 1']\n",
    "print(classification_report(y_test, count_SVM_test_preds, target_names=target_names))\n",
    "helpers.evaluation(count_SVM_precision, count_SVM_recall, count_SVM_f1_score, count_SVM_f1_weighted)"
   ]
  },
  {
   "cell_type": "markdown",
   "id": "80665f7a",
   "metadata": {},
   "source": [
    "Unfortunately this model did not achieve a higher F1 than the TF-IDF version of the SVM model.  But as mentioned before, a balance between high recall and high F1 is important for this business context.\n"
   ]
  },
  {
   "cell_type": "code",
   "execution_count": 171,
   "id": "79978ea8",
   "metadata": {},
   "outputs": [
    {
     "name": "stdout",
     "output_type": "stream",
     "text": [
      "Wall time: 1min 6s\n"
     ]
    }
   ],
   "source": [
    "%%time\n",
    "# training f1\n",
    "count_SVM_f1_cv = cross_val_score(count_SVM, doc_X_train, doc_y_train, scoring='f1', cv=5)\n",
    "count_SVM_mean_cv = round(count_SVM_f1_cv.mean(), 6)"
   ]
  },
  {
   "cell_type": "code",
   "execution_count": 172,
   "id": "3e4e6347",
   "metadata": {},
   "outputs": [
    {
     "data": {
      "text/plain": [
       "'underfit'"
      ]
     },
     "execution_count": 172,
     "metadata": {},
     "output_type": "execute_result"
    }
   ],
   "source": [
    "# Checking if this model is overfit or underfit?\n",
    "count_SVM_fit = helpers.model_fit(doc_SVM_mean_cv, doc_SVM_f1_score)\n",
    "count_SVM_fit"
   ]
  },
  {
   "cell_type": "code",
   "execution_count": 173,
   "id": "816a791a",
   "metadata": {},
   "outputs": [],
   "source": [
    "metric_dict['Baseline SVM - CountVectorizer'] = {'precision': count_SVM_precision, 'recall': count_SVM_recall, 'f1_score': count_SVM_f1_score, 'weighted_f1': count_SVM_f1_weighted, 'fit': count_SVM_fit}"
   ]
  },
  {
   "cell_type": "markdown",
   "id": "f8e210cd",
   "metadata": {},
   "source": [
    "## Baseline Logistic Regression with Count Vectorization\n",
    "\n",
    "The initial Logistic Regression model using TF-IDF Vectorization achieved a decent F1 score of 0.3878. Additionally, that baseline actually had a higher F1 and recall than this recent Linear SVM with CountVectorization. Let's see if this new feature engineering method has an impact."
   ]
  },
  {
   "cell_type": "code",
   "execution_count": 177,
   "id": "271d4a7b",
   "metadata": {},
   "outputs": [],
   "source": [
    "# instantiate model\n",
    "count_log_reg_baseline = LogisticRegression(penalty='l2', class_weight='balanced', random_state=20)"
   ]
  },
  {
   "cell_type": "code",
   "execution_count": 178,
   "id": "e9107821",
   "metadata": {},
   "outputs": [
    {
     "name": "stdout",
     "output_type": "stream",
     "text": [
      "Wall time: 296 ms\n"
     ]
    }
   ],
   "source": [
    "%%time\n",
    "count_log_reg_baseline.fit(X_train_count, y_train)\n",
    "count_log_reg_test_preds = count_log_reg_baseline.predict(X_test_count)"
   ]
  },
  {
   "cell_type": "code",
   "execution_count": 179,
   "id": "63ff0693",
   "metadata": {},
   "outputs": [
    {
     "name": "stdout",
     "output_type": "stream",
     "text": [
      "Testing Set Evaluation Metrics:\n",
      "Precision: 0.7252\n",
      "Recall: 0.7252\n",
      "F1 Score: 0.7252\n",
      "Weighted F1 Score: 0.8154\n"
     ]
    }
   ],
   "source": [
    "count_log_reg_precision = precision_score(y_test, count_log_reg_test_preds)\n",
    "count_log_reg_recall = recall_score(y_test, count_log_reg_test_preds)\n",
    "count_log_reg_f1_score = f1_score(y_test, count_log_reg_test_preds)\n",
    "count_log_reg_f1_weighted = f1_score(y_test, count_log_reg_test_preds, average='weighted')\n",
    "\n",
    "# printing scores\n",
    "helpers.evaluation(count_log_reg_precision, count_log_reg_recall, count_log_reg_f1_score, count_log_reg_f1_weighted)"
   ]
  },
  {
   "cell_type": "code",
   "execution_count": 180,
   "id": "6e43734c",
   "metadata": {},
   "outputs": [
    {
     "name": "stdout",
     "output_type": "stream",
     "text": [
      "Wall time: 487 ms\n"
     ]
    }
   ],
   "source": [
    "%%time\n",
    "# training f1\n",
    "count_log_reg_f1_cv = cross_val_score(count_log_reg_baseline, doc_X_train, doc_y_train, scoring='f1', cv=5)\n",
    "count_log_reg_mean_cv = round(count_log_reg_f1_cv.mean(), 6)"
   ]
  },
  {
   "cell_type": "code",
   "execution_count": 181,
   "id": "9af4777f",
   "metadata": {},
   "outputs": [
    {
     "data": {
      "text/plain": [
       "'underfit'"
      ]
     },
     "execution_count": 181,
     "metadata": {},
     "output_type": "execute_result"
    }
   ],
   "source": [
    "# Checking if this model is overfit or underfit?\n",
    "count_log_reg_fit = helpers.model_fit(count_log_reg_mean_cv, count_log_reg_f1_score)\n",
    "count_log_reg_fit"
   ]
  },
  {
   "cell_type": "code",
   "execution_count": 182,
   "id": "444092a7",
   "metadata": {},
   "outputs": [],
   "source": [
    "metric_dict['Baseline Log Reg - CountVectorizer'] = {'precision': count_log_reg_precision, 'recall': count_log_reg_recall, 'f1_score': count_log_reg_f1_score, 'weighted_f1': count_log_reg_f1_weighted, 'fit': count_log_reg_fit}"
   ]
  },
  {
   "cell_type": "markdown",
   "id": "a46b10b9",
   "metadata": {},
   "source": [
    "# Dealing with Class Imbalance\n",
    "\n",
    "The Logistic Regression model dealt with class imbalance with the parameter `class_weight='balanced'`. Let's try other class imbalance remedy methods to improve the baseline, before tuning hyperparameters with grid search."
   ]
  },
  {
   "cell_type": "markdown",
   "id": "c58330df",
   "metadata": {},
   "source": [
    "## Over-Sampling with SMOTE\n",
    "This method over-samples the minority class, \" Identify Bullying \".\n",
    "\n",
    "Rather than simply oversampling the minority class with replacement (which adds duplicate cases to the dataset), the algorithm generates new sample data by creating ‘synthetic’ examples that are combinations of the closest minority class cases.\n",
    "\n",
    "After synthetically resampling our data, we no longer need to lean on penalized class weights in order to improve our model tuning."
   ]
  },
  {
   "cell_type": "code",
   "execution_count": 192,
   "id": "9b730822",
   "metadata": {},
   "outputs": [
    {
     "name": "stdout",
     "output_type": "stream",
     "text": [
      "Requirement already satisfied: imbalanced-learn in c:\\users\\admin\\anaconda3\\lib\\site-packages (0.10.1)\n",
      "Requirement already satisfied: scikit-learn>=1.0.2 in c:\\users\\admin\\anaconda3\\lib\\site-packages (from imbalanced-learn) (1.0.2)\n",
      "Requirement already satisfied: numpy>=1.17.3 in c:\\users\\admin\\anaconda3\\lib\\site-packages (from imbalanced-learn) (1.21.5)\n",
      "Requirement already satisfied: joblib>=1.1.1 in c:\\users\\admin\\anaconda3\\lib\\site-packages (from imbalanced-learn) (1.2.0)\n",
      "Requirement already satisfied: threadpoolctl>=2.0.0 in c:\\users\\admin\\anaconda3\\lib\\site-packages (from imbalanced-learn) (2.2.0)\n",
      "Requirement already satisfied: scipy>=1.3.2 in c:\\users\\admin\\anaconda3\\lib\\site-packages (from imbalanced-learn) (1.9.1)\n"
     ]
    }
   ],
   "source": [
    "!pip install --upgrade imbalanced-learn\n",
    "from imblearn.over_sampling import SMOTE\n",
    "# generating new sample data from original TF-IDF vectorized data\n",
    "sm = SMOTE(random_state=40)\n",
    "smote_X_train, smote_y_train = sm.fit_resample(X_train_count, y_train)"
   ]
  },
  {
   "cell_type": "code",
   "execution_count": 193,
   "id": "61eb1a9f",
   "metadata": {},
   "outputs": [],
   "source": [
    "# feeding in best log reg model\n",
    "smote_log_reg = LogisticRegression(penalty='l2', random_state=55)"
   ]
  },
  {
   "cell_type": "code",
   "execution_count": 194,
   "id": "a7b35d88",
   "metadata": {},
   "outputs": [
    {
     "name": "stdout",
     "output_type": "stream",
     "text": [
      "Wall time: 356 ms\n"
     ]
    }
   ],
   "source": [
    "%%time\n",
    "smote_log_reg.fit(smote_X_train, smote_y_train)\n",
    "smote_log_reg_test_preds = smote_log_reg.predict(X_test_count)"
   ]
  },
  {
   "cell_type": "code",
   "execution_count": 196,
   "id": "37ac3495",
   "metadata": {},
   "outputs": [
    {
     "name": "stdout",
     "output_type": "stream",
     "text": [
      "Testing Set Evaluation Metrics:\n",
      "Precision: 0.6331\n",
      "Recall: 0.7252\n",
      "F1 Score: 0.6761\n",
      "Weighted F1 Score: 0.77\n"
     ]
    }
   ],
   "source": [
    "smote_precision = precision_score(y_test, smote_log_reg_test_preds)\n",
    "smote_recall = recall_score(y_test, smote_log_reg_test_preds)\n",
    "smote_f1_score = f1_score(y_test, smote_log_reg_test_preds)\n",
    "smote_weighted_f1_score = f1_score(y_test, smote_log_reg_test_preds, average='weighted')\n",
    "\n",
    "# printing scores\n",
    "helpers.evaluation(smote_precision, smote_recall, smote_f1_score, smote_weighted_f1_score)"
   ]
  },
  {
   "cell_type": "code",
   "execution_count": 197,
   "id": "251aa8f6",
   "metadata": {},
   "outputs": [
    {
     "name": "stdout",
     "output_type": "stream",
     "text": [
      "Wall time: 2.94 s\n"
     ]
    }
   ],
   "source": [
    "%%time\n",
    "# training f1\n",
    "smote_f1_cv = cross_val_score(smote_log_reg, smote_X_train, smote_y_train, scoring='f1', cv=5)\n",
    "smote_f1_mean_cv = round(smote_f1_cv.mean(), 6)"
   ]
  },
  {
   "cell_type": "code",
   "execution_count": 198,
   "id": "38269392",
   "metadata": {},
   "outputs": [
    {
     "data": {
      "text/plain": [
       "'overfit'"
      ]
     },
     "execution_count": 198,
     "metadata": {},
     "output_type": "execute_result"
    }
   ],
   "source": [
    "# Checking if this model is overfit or underfit?\n",
    "smote_fit = helpers.model_fit(smote_f1_mean_cv, smote_f1_score)\n",
    "smote_fit"
   ]
  },
  {
   "cell_type": "code",
   "execution_count": 199,
   "id": "accef69f",
   "metadata": {},
   "outputs": [],
   "source": [
    "# adding these metrics to evaluation metric dict\n",
    "metric_dict['Log Reg Oversampled - CountVectorizer'] = {'precision': smote_precision, 'recall': smote_recall, 'f1_score': smote_f1_score, 'weighted_f1': smote_weighted_f1_score, 'fit': smote_fit}"
   ]
  },
  {
   "cell_type": "markdown",
   "id": "fe591289",
   "metadata": {},
   "source": [
    "## Under-Sampling with Tomek Links\n",
    "This method under-samples the majoirty class, \"Not Bullying data.\"\n"
   ]
  },
  {
   "cell_type": "code",
   "execution_count": 200,
   "id": "b3b892ef",
   "metadata": {},
   "outputs": [
    {
     "name": "stdout",
     "output_type": "stream",
     "text": [
      "Resampled dataset shape Counter({0: 8422, 1: 4147})\n"
     ]
    }
   ],
   "source": [
    "# resampling original TF-IDF vectorized data\n",
    "tl = TomekLinks()\n",
    "tomek_X_train, tomek_y_train = tl.fit_resample(X_train_count, y_train)\n",
    "print('Resampled dataset shape %s' % Counter(tomek_y_train))"
   ]
  },
  {
   "cell_type": "code",
   "execution_count": 201,
   "id": "32e4aa96",
   "metadata": {},
   "outputs": [],
   "source": [
    "tomek_log_reg = LogisticRegression(penalty='l2', random_state=55)"
   ]
  },
  {
   "cell_type": "code",
   "execution_count": 202,
   "id": "813a6af6",
   "metadata": {},
   "outputs": [
    {
     "name": "stdout",
     "output_type": "stream",
     "text": [
      "Wall time: 807 ms\n"
     ]
    }
   ],
   "source": [
    "%%time\n",
    "tomek_log_reg.fit(tomek_X_train, tomek_y_train)\n",
    "tomek_log_reg_test_preds = tomek_log_reg.predict(X_test_count)"
   ]
  },
  {
   "cell_type": "code",
   "execution_count": 203,
   "id": "66cbc210",
   "metadata": {},
   "outputs": [
    {
     "name": "stdout",
     "output_type": "stream",
     "text": [
      "Testing Set Evaluation Metrics:\n",
      "Precision: 0.785\n",
      "Recall: 0.6242\n",
      "F1 Score: 0.6954\n",
      "Weighted F1 Score: 0.8104\n"
     ]
    }
   ],
   "source": [
    "tomek_precision = precision_score(y_test, tomek_log_reg_test_preds)\n",
    "tomek_recall = recall_score(y_test, tomek_log_reg_test_preds)\n",
    "tomek_f1_score = f1_score(y_test, tomek_log_reg_test_preds)\n",
    "tomek_weighted_f1_score = f1_score(y_test, tomek_log_reg_test_preds, average='weighted')\n",
    "\n",
    "# printing scores\n",
    "helpers.evaluation(tomek_precision, tomek_recall, tomek_f1_score, tomek_weighted_f1_score)"
   ]
  },
  {
   "cell_type": "code",
   "execution_count": 204,
   "id": "3dc0158d",
   "metadata": {},
   "outputs": [
    {
     "name": "stdout",
     "output_type": "stream",
     "text": [
      "Wall time: 1.5 s\n"
     ]
    }
   ],
   "source": [
    "%%time\n",
    "# training f1\n",
    "tomek_f1_cv = cross_val_score(tomek_log_reg, tomek_X_train, tomek_y_train, scoring='f1', cv=5)\n",
    "tomek_mean_cv = round(tomek_f1_cv.mean(), 6)"
   ]
  },
  {
   "cell_type": "code",
   "execution_count": 205,
   "id": "1e9def68",
   "metadata": {},
   "outputs": [
    {
     "data": {
      "text/plain": [
       "'underfit'"
      ]
     },
     "execution_count": 205,
     "metadata": {},
     "output_type": "execute_result"
    }
   ],
   "source": [
    "# Checking if this model is overfit or underfit?\n",
    "tomek_fit = helpers.model_fit(tomek_mean_cv, tomek_f1_score)\n",
    "tomek_fit"
   ]
  },
  {
   "cell_type": "code",
   "execution_count": 206,
   "id": "4cf54622",
   "metadata": {},
   "outputs": [],
   "source": [
    "# adding these metrics to evaluation metric dict\n",
    "metric_dict['Log Reg Undersampled - CountVectorizer'] = {'precision': tomek_precision, 'recall': tomek_recall, 'f1_score': tomek_f1_score, 'weighted_f1': tomek_weighted_f1_score, 'fit': tomek_fit}"
   ]
  },
  {
   "cell_type": "markdown",
   "id": "432ee834",
   "metadata": {},
   "source": [
    "# Evaluating All Models"
   ]
  },
  {
   "cell_type": "code",
   "execution_count": 207,
   "id": "55da1396",
   "metadata": {},
   "outputs": [
    {
     "data": {
      "text/html": [
       "<div>\n",
       "<style scoped>\n",
       "    .dataframe tbody tr th:only-of-type {\n",
       "        vertical-align: middle;\n",
       "    }\n",
       "\n",
       "    .dataframe tbody tr th {\n",
       "        vertical-align: top;\n",
       "    }\n",
       "\n",
       "    .dataframe thead th {\n",
       "        text-align: right;\n",
       "    }\n",
       "</style>\n",
       "<table border=\"1\" class=\"dataframe\">\n",
       "  <thead>\n",
       "    <tr style=\"text-align: right;\">\n",
       "      <th></th>\n",
       "      <th>precision</th>\n",
       "      <th>recall</th>\n",
       "      <th>f1_score</th>\n",
       "      <th>weighted_f1</th>\n",
       "      <th>fit</th>\n",
       "    </tr>\n",
       "  </thead>\n",
       "  <tbody>\n",
       "    <tr>\n",
       "      <th>Baseline Random Forest - TFIDF</th>\n",
       "      <td>0.772506</td>\n",
       "      <td>0.606495</td>\n",
       "      <td>0.679508</td>\n",
       "      <td>0.803404</td>\n",
       "      <td>underfit</td>\n",
       "    </tr>\n",
       "    <tr>\n",
       "      <th>Baseline Log Reg - TFIDF</th>\n",
       "      <td>0.697080</td>\n",
       "      <td>0.729704</td>\n",
       "      <td>0.713019</td>\n",
       "      <td>0.806030</td>\n",
       "      <td>underfit</td>\n",
       "    </tr>\n",
       "    <tr>\n",
       "      <th>Baseline Naive Bayes - TFIDF</th>\n",
       "      <td>0.687169</td>\n",
       "      <td>0.618911</td>\n",
       "      <td>0.651256</td>\n",
       "      <td>0.776793</td>\n",
       "      <td>overfit</td>\n",
       "    </tr>\n",
       "    <tr>\n",
       "      <th>Baseline SVM - TFIDF</th>\n",
       "      <td>0.692580</td>\n",
       "      <td>0.748806</td>\n",
       "      <td>0.719596</td>\n",
       "      <td>0.808000</td>\n",
       "      <td>underfit</td>\n",
       "    </tr>\n",
       "    <tr>\n",
       "      <th>Baseline SVM - Doc2Vec</th>\n",
       "      <td>0.467967</td>\n",
       "      <td>0.418171</td>\n",
       "      <td>0.441669</td>\n",
       "      <td>0.635421</td>\n",
       "      <td>underfit</td>\n",
       "    </tr>\n",
       "    <tr>\n",
       "      <th>Baseline SVM - CountVectorizer</th>\n",
       "      <td>0.688991</td>\n",
       "      <td>0.709160</td>\n",
       "      <td>0.698930</td>\n",
       "      <td>0.795514</td>\n",
       "      <td>underfit</td>\n",
       "    </tr>\n",
       "    <tr>\n",
       "      <th>Baseline Log Reg - CountVectorizer</th>\n",
       "      <td>0.725212</td>\n",
       "      <td>0.725212</td>\n",
       "      <td>0.725212</td>\n",
       "      <td>0.815414</td>\n",
       "      <td>underfit</td>\n",
       "    </tr>\n",
       "    <tr>\n",
       "      <th>Log Reg Oversampled - CountVectorizer</th>\n",
       "      <td>0.633141</td>\n",
       "      <td>0.725212</td>\n",
       "      <td>0.676056</td>\n",
       "      <td>0.770027</td>\n",
       "      <td>overfit</td>\n",
       "    </tr>\n",
       "    <tr>\n",
       "      <th>Log Reg Undersampled - CountVectorizer</th>\n",
       "      <td>0.785036</td>\n",
       "      <td>0.624174</td>\n",
       "      <td>0.695423</td>\n",
       "      <td>0.810408</td>\n",
       "      <td>underfit</td>\n",
       "    </tr>\n",
       "  </tbody>\n",
       "</table>\n",
       "</div>"
      ],
      "text/plain": [
       "                                        precision    recall  f1_score  \\\n",
       "Baseline Random Forest - TFIDF           0.772506  0.606495  0.679508   \n",
       "Baseline Log Reg - TFIDF                 0.697080  0.729704  0.713019   \n",
       "Baseline Naive Bayes - TFIDF             0.687169  0.618911  0.651256   \n",
       "Baseline SVM - TFIDF                     0.692580  0.748806  0.719596   \n",
       "Baseline SVM - Doc2Vec                   0.467967  0.418171  0.441669   \n",
       "Baseline SVM - CountVectorizer           0.688991  0.709160  0.698930   \n",
       "Baseline Log Reg - CountVectorizer       0.725212  0.725212  0.725212   \n",
       "Log Reg Oversampled - CountVectorizer    0.633141  0.725212  0.676056   \n",
       "Log Reg Undersampled - CountVectorizer   0.785036  0.624174  0.695423   \n",
       "\n",
       "                                        weighted_f1       fit  \n",
       "Baseline Random Forest - TFIDF             0.803404  underfit  \n",
       "Baseline Log Reg - TFIDF                   0.806030  underfit  \n",
       "Baseline Naive Bayes - TFIDF               0.776793   overfit  \n",
       "Baseline SVM - TFIDF                       0.808000  underfit  \n",
       "Baseline SVM - Doc2Vec                     0.635421  underfit  \n",
       "Baseline SVM - CountVectorizer             0.795514  underfit  \n",
       "Baseline Log Reg - CountVectorizer         0.815414  underfit  \n",
       "Log Reg Oversampled - CountVectorizer      0.770027   overfit  \n",
       "Log Reg Undersampled - CountVectorizer     0.810408  underfit  "
      ]
     },
     "execution_count": 207,
     "metadata": {},
     "output_type": "execute_result"
    }
   ],
   "source": [
    "# printing dict for testing set metrics\n",
    "pd.DataFrame.from_dict(metric_dict, orient='index')"
   ]
  },
  {
   "cell_type": "markdown",
   "id": "1899966b",
   "metadata": {},
   "source": [
    "## Evaluation Metrics for Testing Set\n",
    "\n",
    "These scores give us insights of how the model will perform on unseen data."
   ]
  },
  {
   "cell_type": "code",
   "execution_count": 208,
   "id": "6d2446ed",
   "metadata": {},
   "outputs": [
    {
     "name": "stdout",
     "output_type": "stream",
     "text": [
      "Testing Set Evaluation Metrics:\n",
      "Precision: 0.7252\n",
      "Recall: 0.7252\n",
      "F1 Score: 0.7252\n",
      "Weighted F1 Score: 0.8154\n"
     ]
    }
   ],
   "source": [
    "helpers.evaluation(count_log_reg_precision, count_log_reg_recall, count_log_reg_f1_score, count_log_reg_f1_weighted)"
   ]
  },
  {
   "cell_type": "code",
   "execution_count": 160,
   "id": "bec14103",
   "metadata": {},
   "outputs": [
    {
     "name": "stdout",
     "output_type": "stream",
     "text": [
      "Training F1 Score: 0.47898\n",
      "Testing F1 Score: 0.72521\n"
     ]
    }
   ],
   "source": [
    "# cross validated f1 score for training set\n",
    "print('Training F1 Score: {:.5}'.format(count_log_reg_mean_cv))\n",
    "# uniform f1 score for testing set\n",
    "print('Testing F1 Score: {:.5}'.format(count_log_reg_f1_score))"
   ]
  },
  {
   "cell_type": "code",
   "execution_count": 210,
   "id": "df3afa7f",
   "metadata": {},
   "outputs": [
    {
     "name": "stderr",
     "output_type": "stream",
     "text": [
      "C:\\Users\\Admin\\anaconda3\\lib\\site-packages\\sklearn\\utils\\deprecation.py:87: FutureWarning: Function plot_confusion_matrix is deprecated; Function `plot_confusion_matrix` is deprecated in 1.0 and will be removed in 1.2. Use one of the class methods: ConfusionMatrixDisplay.from_predictions or ConfusionMatrixDisplay.from_estimator.\n",
      "  warnings.warn(msg, category=FutureWarning)\n"
     ]
    },
    {
     "data": {
      "image/png": "[encoded data removed]",
      "text/plain": [
       "<Figure size 640x480 with 2 Axes>"
      ]
     },
     "metadata": {},
     "output_type": "display_data"
    }
   ],
   "source": [
    "# generating standard confusion matrix for testing set\n",
    "SVM_conf_matrix = plot_confusion_matrix(count_log_reg_baseline, X_test_count, y_test,\n",
    "                                 display_labels=None,\n",
    "                                 cmap=plt.cm.Blues)\n",
    "SVM_conf_matrix.ax_.set_title('Confusion Matrix for \\n Logistic Regression with CountVectorizer')\n",
    "plt.xlabel('Predicted')\n",
    "plt.ylabel('Actual')\n",
    "plt.grid(False)\n",
    "plt.show()"
   ]
  },
  {
   "cell_type": "code",
   "execution_count": 211,
   "id": "d15f09ea",
   "metadata": {},
   "outputs": [
    {
     "name": "stderr",
     "output_type": "stream",
     "text": [
      "C:\\Users\\Admin\\anaconda3\\lib\\site-packages\\sklearn\\utils\\deprecation.py:87: FutureWarning: Function plot_confusion_matrix is deprecated; Function `plot_confusion_matrix` is deprecated in 1.0 and will be removed in 1.2. Use one of the class methods: ConfusionMatrixDisplay.from_predictions or ConfusionMatrixDisplay.from_estimator.\n",
      "  warnings.warn(msg, category=FutureWarning)\n"
     ]
    },
    {
     "data": {
      "image/png": "[encoded data removed]",
      "text/plain": [
       "<Figure size 640x480 with 2 Axes>"
      ]
     },
     "metadata": {},
     "output_type": "display_data"
    }
   ],
   "source": [
    "# generating normalized confusion matrix for testing set\n",
    "SVM_conf_matrix = plot_confusion_matrix(count_log_reg_baseline, X_test_count, y_test,\n",
    "                                 display_labels=None,\n",
    "                                 cmap=plt.cm.Purples,\n",
    "                                 normalize='true')\n",
    "SVM_conf_matrix.ax_.set_title('Normalized Confusion Matrix for \\n Logistic Regression with CountVectorizer')\n",
    "plt.xlabel('Predicted')\n",
    "plt.ylabel('Actual')\n",
    "plt.grid(False)\n",
    "plt.show()"
   ]
  },
  {
   "cell_type": "code",
   "execution_count": null,
   "id": "010b40d1",
   "metadata": {},
   "outputs": [],
   "source": []
  }
 ],
 "metadata": {
  "kernelspec": {
   "display_name": "Python 3 (ipykernel)",
   "language": "python",
   "name": "python3"
  },
  "language_info": {
   "codemirror_mode": {
    "name": "ipython",
    "version": 3
   },
   "file_extension": ".py",
   "mimetype": "text/x-python",
   "name": "python",
   "nbconvert_exporter": "python",
   "pygments_lexer": "ipython3",
   "version": "3.9.13"
  }
 },
 "nbformat": 4,
 "nbformat_minor": 5
}
